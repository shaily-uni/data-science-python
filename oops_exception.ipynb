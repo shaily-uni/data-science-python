{
  "nbformat": 4,
  "nbformat_minor": 0,
  "metadata": {
    "colab": {
      "provenance": [],
      "authorship_tag": "ABX9TyP4SBLXzZv41TzfVxq261AR",
      "include_colab_link": true
    },
    "kernelspec": {
      "name": "python3",
      "display_name": "Python 3"
    },
    "language_info": {
      "name": "python"
    }
  },
  "cells": [
    {
      "cell_type": "markdown",
      "metadata": {
        "id": "view-in-github",
        "colab_type": "text"
      },
      "source": [
        "<a href=\"https://colab.research.google.com/github/shaily-uni/data-science-python/blob/main/oops_exception.ipynb\" target=\"_parent\"><img src=\"https://colab.research.google.com/assets/colab-badge.svg\" alt=\"Open In Colab\"/></a>"
      ]
    },
    {
      "cell_type": "code",
      "execution_count": 1,
      "metadata": {
        "colab": {
          "base_uri": "https://localhost:8080/"
        },
        "id": "bESeh2M_MbtB",
        "outputId": "6183680a-2129-4209-fe06-6b4741eba37f"
      },
      "outputs": [
        {
          "output_type": "execute_result",
          "data": {
            "text/plain": [
              "[]"
            ]
          },
          "metadata": {},
          "execution_count": 1
        }
      ],
      "source": [
        "empty_list=[]\n",
        "empty_list"
      ]
    },
    {
      "cell_type": "code",
      "source": [
        "another_empty_list=list()"
      ],
      "metadata": {
        "id": "O6AhdaCbMt4n"
      },
      "execution_count": 3,
      "outputs": []
    },
    {
      "cell_type": "code",
      "source": [
        "another_empty_list.append(2)\n",
        "another_empty_list.append(1)\n",
        "another_empty_list.append(3)\n",
        "another_empty_list"
      ],
      "metadata": {
        "colab": {
          "base_uri": "https://localhost:8080/"
        },
        "id": "Hu8o4ZRwMylr",
        "outputId": "824bf020-8e81-4893-a8a7-ca2818ba777f"
      },
      "execution_count": 5,
      "outputs": [
        {
          "output_type": "execute_result",
          "data": {
            "text/plain": [
              "[2, 1, 3, 2, 1, 3]"
            ]
          },
          "metadata": {},
          "execution_count": 5
        }
      ]
    },
    {
      "cell_type": "code",
      "source": [
        "another_empty_list.index(3)"
      ],
      "metadata": {
        "colab": {
          "base_uri": "https://localhost:8080/"
        },
        "id": "lDTSnVnQNHJT",
        "outputId": "87d26949-2080-4fc0-ac3d-893c2efcbbcd"
      },
      "execution_count": 6,
      "outputs": [
        {
          "output_type": "execute_result",
          "data": {
            "text/plain": [
              "2"
            ]
          },
          "metadata": {},
          "execution_count": 6
        }
      ]
    },
    {
      "cell_type": "code",
      "source": [
        "thesixthsense=6\n",
        "type(thesixthsense)"
      ],
      "metadata": {
        "colab": {
          "base_uri": "https://localhost:8080/"
        },
        "id": "3A0NO3UINRsu",
        "outputId": "e242d58b-cf71-4e8c-c9f7-93670ced9842"
      },
      "execution_count": 7,
      "outputs": [
        {
          "output_type": "execute_result",
          "data": {
            "text/plain": [
              "int"
            ]
          },
          "metadata": {},
          "execution_count": 7
        }
      ]
    },
    {
      "cell_type": "code",
      "source": [
        "twoandahalf=9.9\n",
        "print(type(twoandahalf))\n"
      ],
      "metadata": {
        "colab": {
          "base_uri": "https://localhost:8080/"
        },
        "id": "j3vf_TiMNaeb",
        "outputId": "996d8142-f155-4a68-ed86-a44f46eb1a79"
      },
      "execution_count": 8,
      "outputs": [
        {
          "output_type": "stream",
          "name": "stdout",
          "text": [
            "<class 'float'>\n"
          ]
        }
      ]
    },
    {
      "cell_type": "code",
      "source": [
        "schindlers_list=list()\n",
        "print(type(schindlers_list))"
      ],
      "metadata": {
        "colab": {
          "base_uri": "https://localhost:8080/"
        },
        "id": "KsGiP6OsNipH",
        "outputId": "20e6438e-6753-4444-946e-be15390db373"
      },
      "execution_count": 9,
      "outputs": [
        {
          "output_type": "stream",
          "name": "stdout",
          "text": [
            "<class 'list'>\n"
          ]
        }
      ]
    },
    {
      "cell_type": "code",
      "source": [
        "fam={'farrago':'a confused mixture'}\n",
        "type(fam)"
      ],
      "metadata": {
        "colab": {
          "base_uri": "https://localhost:8080/"
        },
        "id": "BUgpCqsdNzjf",
        "outputId": "55255e0b-bdd1-41b6-e69b-267320b5d6e5"
      },
      "execution_count": 11,
      "outputs": [
        {
          "output_type": "execute_result",
          "data": {
            "text/plain": [
              "dict"
            ]
          },
          "metadata": {},
          "execution_count": 11
        }
      ]
    },
    {
      "cell_type": "code",
      "source": [
        "fam={'farrago','a confused mixture'}\n",
        "type(fam)"
      ],
      "metadata": {
        "colab": {
          "base_uri": "https://localhost:8080/"
        },
        "id": "4TdaNrwqOC09",
        "outputId": "ee453e14-8feb-4167-8907-3e26315b820b"
      },
      "execution_count": 12,
      "outputs": [
        {
          "output_type": "execute_result",
          "data": {
            "text/plain": [
              "set"
            ]
          },
          "metadata": {},
          "execution_count": 12
        }
      ]
    },
    {
      "cell_type": "code",
      "source": [
        "class firstclass:\n",
        "  pass\n",
        "x=firstclass()\n",
        "print(type(x))"
      ],
      "metadata": {
        "colab": {
          "base_uri": "https://localhost:8080/"
        },
        "id": "ZviF7aGkN-2T",
        "outputId": "e7d636bc-8108-4dc7-fa91-e02f0b80747f"
      },
      "execution_count": 14,
      "outputs": [
        {
          "output_type": "stream",
          "name": "stdout",
          "text": [
            "<class '__main__.firstclass'>\n"
          ]
        }
      ]
    },
    {
      "cell_type": "code",
      "source": [
        "class dog:\n",
        "  def __init__(self,breed,name):\n",
        "    self.breed_att=breed\n",
        "    self.name_att=name\n",
        "sam_object=dog('Lab','Sam')\n",
        "frank_object=dog('Huskie','Frank')\n",
        "sam_object.breed_att"
      ],
      "metadata": {
        "colab": {
          "base_uri": "https://localhost:8080/",
          "height": 35
        },
        "id": "odhUmgntOQ3F",
        "outputId": "e666f28b-f377-4b88-8529-0101f546019b"
      },
      "execution_count": 17,
      "outputs": [
        {
          "output_type": "execute_result",
          "data": {
            "text/plain": [
              "'Lab'"
            ],
            "application/vnd.google.colaboratory.intrinsic+json": {
              "type": "string"
            }
          },
          "metadata": {},
          "execution_count": 17
        }
      ]
    },
    {
      "cell_type": "code",
      "source": [
        "frank_object.breed_att"
      ],
      "metadata": {
        "colab": {
          "base_uri": "https://localhost:8080/",
          "height": 35
        },
        "id": "T8s4SeODPnfy",
        "outputId": "4f32fb95-bc0c-46b1-9836-93ef285e6ef2"
      },
      "execution_count": 18,
      "outputs": [
        {
          "output_type": "execute_result",
          "data": {
            "text/plain": [
              "'Huskie'"
            ],
            "application/vnd.google.colaboratory.intrinsic+json": {
              "type": "string"
            }
          },
          "metadata": {},
          "execution_count": 18
        }
      ]
    },
    {
      "cell_type": "code",
      "source": [
        "class circle:\n",
        "  def __init__(self,radius=1):\n",
        "    self.radius=radius\n",
        "    self.area=radius*radius*3.14\n",
        "  def set_radius(self,new_radius):\n",
        "    self.radius=new_radius\n",
        "    self.area=new_radius*new_radius*3.14\n",
        "  def get_circumference(self):\n",
        "    return 2*3.14*self.radius\n",
        "c=circle(2)\n",
        "c.area"
      ],
      "metadata": {
        "colab": {
          "base_uri": "https://localhost:8080/"
        },
        "id": "mVPjCbV_QMKs",
        "outputId": "240a871d-3ebe-44db-87fe-589023ff44ed"
      },
      "execution_count": 22,
      "outputs": [
        {
          "output_type": "execute_result",
          "data": {
            "text/plain": [
              "12.56"
            ]
          },
          "metadata": {},
          "execution_count": 22
        }
      ]
    },
    {
      "cell_type": "code",
      "source": [
        "c.set_radius(10)\n",
        "c.area"
      ],
      "metadata": {
        "colab": {
          "base_uri": "https://localhost:8080/"
        },
        "id": "inRt82zIRA2N",
        "outputId": "9ec90e0a-e15a-4e03-dc7f-9717b9f3e0f9"
      },
      "execution_count": 23,
      "outputs": [
        {
          "output_type": "execute_result",
          "data": {
            "text/plain": [
              "314.0"
            ]
          },
          "metadata": {},
          "execution_count": 23
        }
      ]
    },
    {
      "cell_type": "code",
      "source": [
        "c.get_circumference()"
      ],
      "metadata": {
        "colab": {
          "base_uri": "https://localhost:8080/"
        },
        "id": "ShWTuvQvRJke",
        "outputId": "51a771e0-445b-436c-e331-eecf418f4d19"
      },
      "execution_count": 24,
      "outputs": [
        {
          "output_type": "execute_result",
          "data": {
            "text/plain": [
              "62.800000000000004"
            ]
          },
          "metadata": {},
          "execution_count": 24
        }
      ]
    },
    {
      "cell_type": "code",
      "source": [
        "class housestark:\n",
        "  def __init__(self,sigil):\n",
        "    self.sigil=sigil\n",
        "  def motto(self):\n",
        "    return \"house stark will sigil\"+ self.sigil + \"has the motto 'winter is coming\"\n",
        "class houselannister:\n",
        "  def __init__(self,sigil):\n",
        "    self.sigil=sigil\n",
        "  def motto(self):\n",
        "    return \"house lannister will sigil\"+ self.sigil + \"has the motto 'winter is coming'\"\n",
        "arya=housestark('direwolf')\n",
        "tyrion=houselannister('golden lion')\n",
        "print(arya.motto())"
      ],
      "metadata": {
        "colab": {
          "base_uri": "https://localhost:8080/"
        },
        "id": "r5SZnU3PRb6L",
        "outputId": "500d9d78-1578-4bd4-af1e-b7b211e76562"
      },
      "execution_count": 25,
      "outputs": [
        {
          "output_type": "stream",
          "name": "stdout",
          "text": [
            "house stark will sigildirewolfhas the motto 'winter is coming\n"
          ]
        }
      ]
    },
    {
      "cell_type": "code",
      "source": [
        "print(tyrion.motto())"
      ],
      "metadata": {
        "colab": {
          "base_uri": "https://localhost:8080/"
        },
        "id": "gnD0yBwPSYRe",
        "outputId": "2a6d3e22-e3a2-41d4-99c3-3228bf566d78"
      },
      "execution_count": 26,
      "outputs": [
        {
          "output_type": "stream",
          "name": "stdout",
          "text": [
            "house lannister will sigilgolden lionhas the motto 'winter is coming'\n"
          ]
        }
      ]
    },
    {
      "cell_type": "code",
      "source": [
        "for warrior in [arya,tyrion]:\n",
        "  print(warrior.motto())"
      ],
      "metadata": {
        "colab": {
          "base_uri": "https://localhost:8080/"
        },
        "id": "119P8ELySa7N",
        "outputId": "c9c1b4f8-cd57-4e6c-9cf9-06b322e4850f"
      },
      "execution_count": 27,
      "outputs": [
        {
          "output_type": "stream",
          "name": "stdout",
          "text": [
            "house stark will sigildirewolfhas the motto 'winter is coming\n",
            "house lannister will sigilgolden lionhas the motto 'winter is coming'\n"
          ]
        }
      ]
    },
    {
      "cell_type": "code",
      "source": [
        "def get_motto(warrior):\n",
        "  print(warrior.motto())\n",
        "get_motto(arya)"
      ],
      "metadata": {
        "colab": {
          "base_uri": "https://localhost:8080/"
        },
        "id": "trQ-_MApSnoL",
        "outputId": "c4560c10-4cd5-433c-83d7-d44022ee0f2e"
      },
      "execution_count": 29,
      "outputs": [
        {
          "output_type": "stream",
          "name": "stdout",
          "text": [
            "house stark will sigildirewolfhas the motto 'winter is coming\n"
          ]
        }
      ]
    },
    {
      "cell_type": "code",
      "source": [
        "get_motto(tyrion)"
      ],
      "metadata": {
        "colab": {
          "base_uri": "https://localhost:8080/"
        },
        "id": "aP6zEptTSxsX",
        "outputId": "2b3b774e-4219-4d2e-da61-9128a651572a"
      },
      "execution_count": 30,
      "outputs": [
        {
          "output_type": "stream",
          "name": "stdout",
          "text": [
            "house lannister will sigilgolden lionhas the motto 'winter is coming'\n"
          ]
        }
      ]
    },
    {
      "cell_type": "code",
      "source": [
        "try:\n",
        "  print('good to go')\n",
        "  print('a',dfgyui)\n",
        "  print('b')\n",
        "except:\n",
        "  print('oops')\n",
        "  print('c')\n",
        "  print('d')\n",
        "else:\n",
        "  print('finally')"
      ],
      "metadata": {
        "colab": {
          "base_uri": "https://localhost:8080/"
        },
        "id": "lLaR5dgHS5PI",
        "outputId": "dcf65d61-d851-45e1-fbd6-3a24ccdcc11f"
      },
      "execution_count": 31,
      "outputs": [
        {
          "output_type": "stream",
          "name": "stdout",
          "text": [
            "good to go\n",
            "oops\n",
            "c\n",
            "d\n"
          ]
        }
      ]
    },
    {
      "cell_type": "code",
      "source": [
        "try:\n",
        "  print('execute try statements')\n",
        "except:\n",
        "  print('always execute primary code blocks')"
      ],
      "metadata": {
        "colab": {
          "base_uri": "https://localhost:8080/"
        },
        "id": "WghWEQtkT9ep",
        "outputId": "356cd4dc-52be-4886-dfaa-5570b4a578f9"
      },
      "execution_count": 32,
      "outputs": [
        {
          "output_type": "stream",
          "name": "stdout",
          "text": [
            "execute try statements\n"
          ]
        }
      ]
    },
    {
      "cell_type": "code",
      "source": [
        "a=1\n",
        "b=0.2\n",
        "try:\n",
        "  print('abc')\n",
        "except:\n",
        "   print('sdj is the string')"
      ],
      "metadata": {
        "colab": {
          "base_uri": "https://localhost:8080/"
        },
        "id": "Lr0hO4uwUcWv",
        "outputId": "bdfd50fa-3885-47ad-bc1c-5febe5df854c"
      },
      "execution_count": 33,
      "outputs": [
        {
          "output_type": "stream",
          "name": "stdout",
          "text": [
            "abc\n"
          ]
        }
      ]
    },
    {
      "cell_type": "code",
      "source": [
        "try:\n",
        "  a=1\n",
        "  print(adefewdwd)\n",
        "  try:\n",
        "    print(type(afggdgdsgg))\n",
        "  except:\n",
        "    print(\"error ocurred\")\n",
        "except Exception as ex:\n",
        "  print('the error is :',ex)\n",
        "  print(b,type(b))\n"
      ],
      "metadata": {
        "colab": {
          "base_uri": "https://localhost:8080/"
        },
        "id": "m4yfNZXuUuFB",
        "outputId": "d8d32007-4bda-43ae-899d-c892a219022b"
      },
      "execution_count": 35,
      "outputs": [
        {
          "output_type": "stream",
          "name": "stdout",
          "text": [
            "the error is : name 'adefewdwd' is not defined\n",
            "0.2 <class 'float'>\n"
          ]
        }
      ]
    },
    {
      "cell_type": "code",
      "source": [
        "def get_price_per_km(hour):\n",
        "  if(hour>8)&(hour<11):\n",
        "    price_per_km=20\n",
        "  if(hour>18)&(hour<21):\n",
        "    price_per_km=15\n",
        "  else:\n",
        "    price_per_km=10\n",
        "  return price_per_km"
      ],
      "metadata": {
        "id": "kW1-3oh1Vcwt"
      },
      "execution_count": 38,
      "outputs": []
    },
    {
      "cell_type": "code",
      "source": [
        "class surgerpricing:\n",
        "  def __init__(self):\n",
        "    pass\n",
        "  def get_price_per_km(self,hour):\n",
        "    try:\n",
        "     if(hour>8)&(hour<11):\n",
        "       price_per_km=20\n",
        "     if(hour>18)&(hour<21):\n",
        "       price_per_km=15\n",
        "     else:\n",
        "      price_per_km=10\n",
        "    except:\n",
        "      price_per_km=10\n",
        "    return price_per_km\n",
        "\n"
      ],
      "metadata": {
        "id": "eVAW3n91WJi6"
      },
      "execution_count": 43,
      "outputs": []
    }
  ]
}