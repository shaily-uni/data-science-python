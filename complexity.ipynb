{
  "nbformat": 4,
  "nbformat_minor": 0,
  "metadata": {
    "colab": {
      "provenance": [],
      "authorship_tag": "ABX9TyOTG3jc3uqXJ7Ei1GgObtTV",
      "include_colab_link": true
    },
    "kernelspec": {
      "name": "python3",
      "display_name": "Python 3"
    },
    "language_info": {
      "name": "python"
    }
  },
  "cells": [
    {
      "cell_type": "markdown",
      "metadata": {
        "id": "view-in-github",
        "colab_type": "text"
      },
      "source": [
        "<a href=\"https://colab.research.google.com/github/shaily-uni/data-science-python/blob/main/complexity.ipynb\" target=\"_parent\"><img src=\"https://colab.research.google.com/assets/colab-badge.svg\" alt=\"Open In Colab\"/></a>"
      ]
    },
    {
      "cell_type": "code",
      "execution_count": 2,
      "metadata": {
        "colab": {
          "base_uri": "https://localhost:8080/"
        },
        "id": "iWlFggMZ43Ys",
        "outputId": "7fe90158-a674-4a08-b88c-86b9511e5ffd"
      },
      "outputs": [
        {
          "output_type": "stream",
          "name": "stdout",
          "text": [
            "match found at: 5\n",
            "5\n"
          ]
        }
      ],
      "source": [
        "match=13\n",
        "search=[1,3,5,8,12,13,15,16,18,20,22,30,40,50,55,67]\n",
        "c=0\n",
        "for i in range(len(search)):\n",
        "    if match==search[i]:\n",
        "        print('match found at:',i)\n",
        "        break\n",
        "    c+=1\n",
        "print(c)"
      ]
    },
    {
      "cell_type": "code",
      "source": [
        "search.index(match)"
      ],
      "metadata": {
        "colab": {
          "base_uri": "https://localhost:8080/"
        },
        "id": "msh4j76b5Q6m",
        "outputId": "a2988c42-b1e5-48d4-886e-8dd5e75dc478"
      },
      "execution_count": 3,
      "outputs": [
        {
          "output_type": "execute_result",
          "data": {
            "text/plain": [
              "5"
            ]
          },
          "metadata": {},
          "execution_count": 3
        }
      ]
    },
    {
      "cell_type": "code",
      "source": [
        "search.sort()\n",
        "from builtins import print\n",
        "print(search)\n",
        "l=0\n",
        "r=len(search)-1\n",
        "c=0\n",
        "while l<r:\n",
        "    m=(l+r) //2\n",
        "    if search[m]==match:\n",
        "        break\n",
        "    elif search[m]<match:\n",
        "        l=m+1\n",
        "    else :\n",
        "        r=m-1\n",
        "    c+=1\n",
        "print(c)"
      ],
      "metadata": {
        "colab": {
          "base_uri": "https://localhost:8080/"
        },
        "id": "MpQaM2rT5cXY",
        "outputId": "87f1c7e4-e2e3-428f-a7cd-8d8b0f88ac91"
      },
      "execution_count": 20,
      "outputs": [
        {
          "output_type": "stream",
          "name": "stdout",
          "text": [
            "[1, 3, 5, 8, 12, 13, 15, 16, 18, 20, 22, 30, 40, 50, 55, 67]\n",
            "2\n"
          ]
        }
      ]
    },
    {
      "cell_type": "code",
      "source": [
        "def binary(arr,low,high,x):\n",
        "    c=0\n",
        "    if high>=low:\n",
        "        mid=(high+low)//2\n",
        "        if arr[mid]==x:\n",
        "            return mid\n",
        "        elif arr[mid]>x:\n",
        "            return binary(arr,low,mid-1,x)\n",
        "        else:\n",
        "            return binary(arr,mid+1,high,x)\n",
        "    else :\n",
        "        return -1"
      ],
      "metadata": {
        "id": "OJO9YKnj7u14"
      },
      "execution_count": 21,
      "outputs": []
    },
    {
      "cell_type": "code",
      "source": [
        "match=13\n",
        "search=[1,3,5,8,12,13,15,16,18,20,22,30,40,50,55,67]\n",
        "result=binary(search,0, len(search),match)\n",
        "print('match fount at index' ,str(result))"
      ],
      "metadata": {
        "colab": {
          "base_uri": "https://localhost:8080/"
        },
        "id": "wOf2yWc671ps",
        "outputId": "ccf8b7e9-ac63-454f-dc18-26686b8fd7a8"
      },
      "execution_count": 22,
      "outputs": [
        {
          "output_type": "stream",
          "name": "stdout",
          "text": [
            "match fount at index 5\n"
          ]
        }
      ]
    },
    {
      "cell_type": "code",
      "source": [
        "print(search[5]==match)"
      ],
      "metadata": {
        "colab": {
          "base_uri": "https://localhost:8080/"
        },
        "id": "F_OPyrqR76S4",
        "outputId": "85825c4b-8fa4-4a7e-cfb7-a70663a88b32"
      },
      "execution_count": 23,
      "outputs": [
        {
          "output_type": "stream",
          "name": "stdout",
          "text": [
            "True\n"
          ]
        }
      ]
    },
    {
      "cell_type": "code",
      "source": [
        "list_to_sum=[1,2,3,4,5,7]\n",
        "sum=0\n",
        "for i in range (len(list_to_sum)):\n",
        "    sum=sum+list_to_sum[i]\n",
        "sum"
      ],
      "metadata": {
        "colab": {
          "base_uri": "https://localhost:8080/"
        },
        "id": "s2o_7dFP7_FE",
        "outputId": "1e98f04a-6cbb-4f61-89bb-281cd3e80841"
      },
      "execution_count": 24,
      "outputs": [
        {
          "output_type": "execute_result",
          "data": {
            "text/plain": [
              "22"
            ]
          },
          "metadata": {},
          "execution_count": 24
        }
      ]
    },
    {
      "cell_type": "code",
      "source": [
        "sum=[]\n",
        "c=0\n",
        "for i in range(len(list_to_sum)):\n",
        "    if i==0:\n",
        "        sum.append(list_to_sum[i])\n",
        "    else:\n",
        "        sum.append(sum[-1] + list_to_sum[i])\n",
        "    c+=1\n",
        "print(c)"
      ],
      "metadata": {
        "colab": {
          "base_uri": "https://localhost:8080/"
        },
        "id": "gdxdnqWZ8LUj",
        "outputId": "fd5a9b0b-ab8b-4733-92d1-b23c21c037de"
      },
      "execution_count": 25,
      "outputs": [
        {
          "output_type": "stream",
          "name": "stdout",
          "text": [
            "6\n"
          ]
        }
      ]
    },
    {
      "cell_type": "code",
      "source": [
        "sum"
      ],
      "metadata": {
        "colab": {
          "base_uri": "https://localhost:8080/"
        },
        "id": "4SOfk31W8P_j",
        "outputId": "8f0f42f0-0a02-4cfa-eb53-fac98890dcf5"
      },
      "execution_count": 26,
      "outputs": [
        {
          "output_type": "execute_result",
          "data": {
            "text/plain": [
              "[1, 3, 6, 10, 15, 22]"
            ]
          },
          "metadata": {},
          "execution_count": 26
        }
      ]
    },
    {
      "cell_type": "code",
      "source": [
        "sum[-1]"
      ],
      "metadata": {
        "colab": {
          "base_uri": "https://localhost:8080/"
        },
        "id": "SIxfu7aD8Rz8",
        "outputId": "40d70a4f-b81f-4265-ed70-ffd29f6238bc"
      },
      "execution_count": 27,
      "outputs": [
        {
          "output_type": "execute_result",
          "data": {
            "text/plain": [
              "22"
            ]
          },
          "metadata": {},
          "execution_count": 27
        }
      ]
    },
    {
      "cell_type": "code",
      "source": [
        "a=[1,11,4,9,16,2,23,45,77,15]\n",
        "b=[52,29,82,32,67,5,2,22,78,98]\n",
        "areas=[]\n",
        "c=0\n",
        "for num_a in a:\n",
        "  for num_b in b:\n",
        "        areas.append(num_a*num_b)\n",
        "        c+=1\n",
        "d=c\n",
        "print(d)"
      ],
      "metadata": {
        "colab": {
          "base_uri": "https://localhost:8080/"
        },
        "id": "qmnsJB1i8X0Q",
        "outputId": "4084ec25-95f1-4fcf-9237-facf6d62a3da"
      },
      "execution_count": 30,
      "outputs": [
        {
          "output_type": "stream",
          "name": "stdout",
          "text": [
            "100\n"
          ]
        }
      ]
    },
    {
      "cell_type": "code",
      "source": [
        "max_area=0\n",
        "for area in areas:\n",
        "    if area>max_area:\n",
        "        max_area=area\n",
        "    d=d+1\n",
        "print(d)"
      ],
      "metadata": {
        "colab": {
          "base_uri": "https://localhost:8080/"
        },
        "id": "iO6iaU8o80Nx",
        "outputId": "ffb2e276-ce5f-45c4-af2a-d525271794f9"
      },
      "execution_count": 31,
      "outputs": [
        {
          "output_type": "stream",
          "name": "stdout",
          "text": [
            "200\n"
          ]
        }
      ]
    },
    {
      "cell_type": "code",
      "source": [
        "len(areas)"
      ],
      "metadata": {
        "colab": {
          "base_uri": "https://localhost:8080/"
        },
        "id": "WmJkHoKE85XY",
        "outputId": "fb2de2ec-ecf8-4bcb-c858-4560d9fb629d"
      },
      "execution_count": 32,
      "outputs": [
        {
          "output_type": "execute_result",
          "data": {
            "text/plain": [
              "100"
            ]
          },
          "metadata": {},
          "execution_count": 32
        }
      ]
    },
    {
      "cell_type": "code",
      "source": [
        "max_area"
      ],
      "metadata": {
        "colab": {
          "base_uri": "https://localhost:8080/"
        },
        "id": "NYw0Hh-6871c",
        "outputId": "3c842621-deda-4420-88f7-40ebcd6d563c"
      },
      "execution_count": 33,
      "outputs": [
        {
          "output_type": "execute_result",
          "data": {
            "text/plain": [
              "7546"
            ]
          },
          "metadata": {},
          "execution_count": 33
        }
      ]
    },
    {
      "cell_type": "code",
      "source": [
        "max(areas)"
      ],
      "metadata": {
        "colab": {
          "base_uri": "https://localhost:8080/"
        },
        "id": "AdD3G9zE8_IK",
        "outputId": "e6a759b4-46f3-4edd-f0f6-d7440dc345e4"
      },
      "execution_count": 34,
      "outputs": [
        {
          "output_type": "execute_result",
          "data": {
            "text/plain": [
              "7546"
            ]
          },
          "metadata": {},
          "execution_count": 34
        }
      ]
    },
    {
      "cell_type": "code",
      "source": [
        "a=[1,11,4,9,16,2,23,45,77,15]\n",
        "b=[52,29,82,32,67,5,2,22,78,98]\n",
        "e=0\n",
        "max_a=0\n",
        "for ab in a:\n",
        "    if ab>max_a:\n",
        "        max_a=ab\n",
        "    e+=1\n",
        "max_b=0\n",
        "for bb in b:\n",
        "    if bb>max_b:\n",
        "        max_b=bb\n",
        "    e+=1\n",
        "print(e)\n"
      ],
      "metadata": {
        "colab": {
          "base_uri": "https://localhost:8080/"
        },
        "id": "LIG8VOPI9IfN",
        "outputId": "bae6c4ec-a284-4a06-9bb2-db6fda97637d"
      },
      "execution_count": 37,
      "outputs": [
        {
          "output_type": "stream",
          "name": "stdout",
          "text": [
            "20\n"
          ]
        }
      ]
    }
  ]
}