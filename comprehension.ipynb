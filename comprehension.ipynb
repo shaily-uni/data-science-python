{
  "nbformat": 4,
  "nbformat_minor": 0,
  "metadata": {
    "colab": {
      "provenance": [],
      "authorship_tag": "ABX9TyP/CZLj5PUny6ViJUkjJdvC",
      "include_colab_link": true
    },
    "kernelspec": {
      "name": "python3",
      "display_name": "Python 3"
    },
    "language_info": {
      "name": "python"
    }
  },
  "cells": [
    {
      "cell_type": "markdown",
      "metadata": {
        "id": "view-in-github",
        "colab_type": "text"
      },
      "source": [
        "<a href=\"https://colab.research.google.com/github/shaily-uni/data-science-python/blob/main/comprehension.ipynb\" target=\"_parent\"><img src=\"https://colab.research.google.com/assets/colab-badge.svg\" alt=\"Open In Colab\"/></a>"
      ]
    },
    {
      "cell_type": "code",
      "execution_count": 1,
      "metadata": {
        "colab": {
          "base_uri": "https://localhost:8080/"
        },
        "id": "Xly1PR5oy8nk",
        "outputId": "263c8599-6e47-4286-d512-debe9dca352a"
      },
      "outputs": [
        {
          "output_type": "stream",
          "name": "stdout",
          "text": [
            "the list of sqaured numbers is [1, 4, 16, 36, 121, 196, 289, 400]\n"
          ]
        }
      ],
      "source": [
        "list_of_numbers=[1,2,4,6,11,14,17,20]\n",
        "squared_numbers=[]\n",
        "for numbers in list_of_numbers:\n",
        "    squared_numbers.append(numbers**2)\n",
        "print(f\"the list of sqaured numbers is {squared_numbers}\")"
      ]
    },
    {
      "cell_type": "code",
      "source": [
        "squared_numbers=[numbers**2 for numbers in list_of_numbers]\n",
        "print(squared_numbers)"
      ],
      "metadata": {
        "colab": {
          "base_uri": "https://localhost:8080/"
        },
        "id": "vPh-vo_NznUq",
        "outputId": "5a5900c3-d826-40f9-ffd4-f4fad6416c39"
      },
      "execution_count": 2,
      "outputs": [
        {
          "output_type": "stream",
          "name": "stdout",
          "text": [
            "[1, 4, 16, 36, 121, 196, 289, 400]\n"
          ]
        }
      ]
    },
    {
      "cell_type": "code",
      "source": [
        "print(list_of_numbers)"
      ],
      "metadata": {
        "colab": {
          "base_uri": "https://localhost:8080/"
        },
        "id": "lvAZMRmezshD",
        "outputId": "5e6bc9ed-0ea4-4609-fab5-5f559a388e44"
      },
      "execution_count": 3,
      "outputs": [
        {
          "output_type": "stream",
          "name": "stdout",
          "text": [
            "[1, 2, 4, 6, 11, 14, 17, 20]\n"
          ]
        }
      ]
    },
    {
      "cell_type": "code",
      "source": [
        "even_numbers_list=[number**2 for number in list_of_numbers if number%2==0]\n",
        "print(even_numbers_list)"
      ],
      "metadata": {
        "colab": {
          "base_uri": "https://localhost:8080/"
        },
        "id": "IRrJC-mYz27p",
        "outputId": "7fa7ecf3-94e5-42ef-b75c-93f914c9c974"
      },
      "execution_count": 4,
      "outputs": [
        {
          "output_type": "stream",
          "name": "stdout",
          "text": [
            "[4, 16, 36, 196, 400]\n"
          ]
        }
      ]
    },
    {
      "cell_type": "code",
      "source": [
        "odd_numbers_list=[number**2 for number in list_of_numbers if number%2!=0]\n",
        "print(odd_numbers_list)"
      ],
      "metadata": {
        "colab": {
          "base_uri": "https://localhost:8080/"
        },
        "id": "RYa-6A5iz_Ve",
        "outputId": "9924e6b6-943f-44ca-8581-05baeeca9264"
      },
      "execution_count": 6,
      "outputs": [
        {
          "output_type": "stream",
          "name": "stdout",
          "text": [
            "[1, 121, 289]\n"
          ]
        }
      ]
    },
    {
      "cell_type": "code",
      "source": [
        "odd_squared_numbers=[number**2 if number%2!=0 else number**3 for number in list_of_numbers]\n",
        "print(odd_squared_numbers)"
      ],
      "metadata": {
        "colab": {
          "base_uri": "https://localhost:8080/"
        },
        "id": "y48ebjvw0Xzd",
        "outputId": "5bd5d6ab-5048-4602-cd3b-0c9dc9a15efe"
      },
      "execution_count": 8,
      "outputs": [
        {
          "output_type": "stream",
          "name": "stdout",
          "text": [
            "[1, 8, 64, 216, 121, 2744, 289, 8000]\n"
          ]
        }
      ]
    },
    {
      "cell_type": "code",
      "source": [
        "list(range(4))"
      ],
      "metadata": {
        "colab": {
          "base_uri": "https://localhost:8080/"
        },
        "id": "8Wcfbzhs08sw",
        "outputId": "bace1354-6372-4774-a966-93b29858dfce"
      },
      "execution_count": 9,
      "outputs": [
        {
          "output_type": "execute_result",
          "data": {
            "text/plain": [
              "[0, 1, 2, 3]"
            ]
          },
          "metadata": {},
          "execution_count": 9
        }
      ]
    },
    {
      "cell_type": "code",
      "source": [
        "list_of_numbers=[]\n",
        "for num1 in range(4):\n",
        "    for num2 in range(3):\n",
        "        list_of_numbers.append(num2)\n",
        "print(list_of_numbers)"
      ],
      "metadata": {
        "colab": {
          "base_uri": "https://localhost:8080/"
        },
        "id": "fdYRDSKS1NGC",
        "outputId": "67c715ff-3480-431b-8ffa-d3abccedb388"
      },
      "execution_count": 10,
      "outputs": [
        {
          "output_type": "stream",
          "name": "stdout",
          "text": [
            "[0, 1, 2, 0, 1, 2, 0, 1, 2, 0, 1, 2]\n"
          ]
        }
      ]
    },
    {
      "cell_type": "code",
      "source": [
        "list_of_numbers=[num2 for num1 in range(4) for num2 in range(3)]\n",
        "print(list_of_numbers)"
      ],
      "metadata": {
        "colab": {
          "base_uri": "https://localhost:8080/"
        },
        "id": "rDPYGfCZ1Pn6",
        "outputId": "4c052f0e-6605-46d6-d72b-0fecf261a730"
      },
      "execution_count": 11,
      "outputs": [
        {
          "output_type": "stream",
          "name": "stdout",
          "text": [
            "[0, 1, 2, 0, 1, 2, 0, 1, 2, 0, 1, 2]\n"
          ]
        }
      ]
    },
    {
      "cell_type": "code",
      "source": [
        "list_of_numbers=[num2**2 for num2 in range(3) for num1 in range(4)]\n",
        "print(list_of_numbers)"
      ],
      "metadata": {
        "colab": {
          "base_uri": "https://localhost:8080/"
        },
        "id": "PneI-DhR1Yms",
        "outputId": "e15ecfe3-6351-47f9-9bcd-c45203c21cf1"
      },
      "execution_count": 12,
      "outputs": [
        {
          "output_type": "stream",
          "name": "stdout",
          "text": [
            "[0, 0, 0, 0, 1, 1, 1, 1, 4, 4, 4, 4]\n"
          ]
        }
      ]
    },
    {
      "cell_type": "code",
      "source": [
        "sample=[[]]\n",
        "len(sample)\n",
        "sample[0]"
      ],
      "metadata": {
        "colab": {
          "base_uri": "https://localhost:8080/"
        },
        "id": "c29bcPjX1duA",
        "outputId": "2a659460-f6f7-478a-863c-117eb256f9a1"
      },
      "execution_count": 13,
      "outputs": [
        {
          "output_type": "execute_result",
          "data": {
            "text/plain": [
              "[]"
            ]
          },
          "metadata": {},
          "execution_count": 13
        }
      ]
    },
    {
      "cell_type": "code",
      "source": [
        "list_of_lists=[]\n",
        "for num1 in range(4):\n",
        "    list_of_lists.append([])\n",
        "for num2 in range(3):\n",
        "    list_of_lists[num1].append(num2)\n",
        "print(list_of_lists)"
      ],
      "metadata": {
        "colab": {
          "base_uri": "https://localhost:8080/"
        },
        "id": "atHVAaNo1gmZ",
        "outputId": "dc9fbedf-b301-4b2c-cad1-24f793ce2dea"
      },
      "execution_count": 14,
      "outputs": [
        {
          "output_type": "stream",
          "name": "stdout",
          "text": [
            "[[], [], [], [0, 1, 2]]\n"
          ]
        }
      ]
    },
    {
      "cell_type": "code",
      "source": [
        "list_of_lists=[[num2 for num2 in range(3)] for num1 in range (4)]\n",
        "print(list_of_lists)"
      ],
      "metadata": {
        "colab": {
          "base_uri": "https://localhost:8080/"
        },
        "id": "m3xvIPpS12e7",
        "outputId": "7d96e2f8-ff78-4cb1-946e-3c1168d13a4c"
      },
      "execution_count": 15,
      "outputs": [
        {
          "output_type": "stream",
          "name": "stdout",
          "text": [
            "[[0, 1, 2], [0, 1, 2], [0, 1, 2], [0, 1, 2]]\n"
          ]
        }
      ]
    },
    {
      "cell_type": "code",
      "source": [
        "list_of_lists=[[num1 for num2 in range(3)] for num1 in range (4)]\n",
        "print(list_of_lists)"
      ],
      "metadata": {
        "colab": {
          "base_uri": "https://localhost:8080/"
        },
        "id": "Jxvf2DiE12Zb",
        "outputId": "10ad3150-c24b-4797-d0a0-5930bc9c6c4c"
      },
      "execution_count": 16,
      "outputs": [
        {
          "output_type": "stream",
          "name": "stdout",
          "text": [
            "[[0, 0, 0], [1, 1, 1], [2, 2, 2], [3, 3, 3]]\n"
          ]
        }
      ]
    },
    {
      "cell_type": "code",
      "source": [
        "heisenberg_quote=\"it ceases to exist without me no clearly dont know who you are taking to so let me clue you in dang\"\n",
        "words_by_walter=heisenberg_quote.split(' ')\n",
        "print(words_by_walter)"
      ],
      "metadata": {
        "colab": {
          "base_uri": "https://localhost:8080/"
        },
        "id": "mkmCjSpV1_zQ",
        "outputId": "faae576a-afe7-42d7-9bd8-e97f7bbdf166"
      },
      "execution_count": 23,
      "outputs": [
        {
          "output_type": "stream",
          "name": "stdout",
          "text": [
            "['it', 'ceases', 'to', 'exist', 'without', 'me', 'no', 'clearly', 'dont', 'know', 'who', 'you', 'are', 'taking', 'to', 'so', 'let', 'me', 'clue', 'you', 'in', 'dang']\n"
          ]
        }
      ]
    },
    {
      "cell_type": "code",
      "source": [
        "heisenberg_quote.split('t')"
      ],
      "metadata": {
        "colab": {
          "base_uri": "https://localhost:8080/"
        },
        "id": "pKp9S3VZ2D3J",
        "outputId": "a5467b67-3f6d-4a3f-85a6-8261ec85f425"
      },
      "execution_count": 24,
      "outputs": [
        {
          "output_type": "execute_result",
          "data": {
            "text/plain": [
              "['i',\n",
              " ' ceases ',\n",
              " 'o exis',\n",
              " ' wi',\n",
              " 'hou',\n",
              " ' me no clearly don',\n",
              " ' know who you are ',\n",
              " 'aking ',\n",
              " 'o so le',\n",
              " ' me clue you in dang']"
            ]
          },
          "metadata": {},
          "execution_count": 24
        }
      ]
    },
    {
      "cell_type": "code",
      "source": [
        "first_letters=[]\n",
        "for word in words_by_walter:\n",
        "  first_letters.append(word[0])\n",
        "print(first_letters)"
      ],
      "metadata": {
        "colab": {
          "base_uri": "https://localhost:8080/"
        },
        "id": "WKkwHITj2Imy",
        "outputId": "2821299e-def9-483c-f8c8-7715f90c8b4d"
      },
      "execution_count": 25,
      "outputs": [
        {
          "output_type": "stream",
          "name": "stdout",
          "text": [
            "['i', 'c', 't', 'e', 'w', 'm', 'n', 'c', 'd', 'k', 'w', 'y', 'a', 't', 't', 's', 'l', 'm', 'c', 'y', 'i', 'd']\n"
          ]
        }
      ]
    },
    {
      "cell_type": "code",
      "source": [
        "first_letters=[word[0] for word in words_by_walter]\n",
        "print(first_letters)"
      ],
      "metadata": {
        "colab": {
          "base_uri": "https://localhost:8080/"
        },
        "id": "DGUci4913AzB",
        "outputId": "8543bdca-c53d-431f-8ef1-f19218301dc1"
      },
      "execution_count": 27,
      "outputs": [
        {
          "output_type": "stream",
          "name": "stdout",
          "text": [
            "['i', 'c', 't', 'e', 'w', 'm', 'n', 'c', 'd', 'k', 'w', 'y', 'a', 't', 't', 's', 'l', 'm', 'c', 'y', 'i', 'd']\n"
          ]
        }
      ]
    },
    {
      "cell_type": "code",
      "source": [
        "heisenberg_quote.split(',')"
      ],
      "metadata": {
        "colab": {
          "base_uri": "https://localhost:8080/"
        },
        "id": "SUT3Q-Vc3MLD",
        "outputId": "4f39fca0-8785-4f66-df3d-3effb1f72f81"
      },
      "execution_count": 28,
      "outputs": [
        {
          "output_type": "execute_result",
          "data": {
            "text/plain": [
              "['it ceases to exist without me no clearly dont know who you are taking to so let me clue you in dang']"
            ]
          },
          "metadata": {},
          "execution_count": 28
        }
      ]
    },
    {
      "cell_type": "code",
      "source": [
        "my_string='alphabet inc'\n",
        "list_of_characters=[char for char in my_string]\n",
        "print(list_of_characters)"
      ],
      "metadata": {
        "colab": {
          "base_uri": "https://localhost:8080/"
        },
        "id": "CZCgZ-y_3Xrd",
        "outputId": "73f594b8-d9e4-41f8-a6c6-43de53f8db86"
      },
      "execution_count": 29,
      "outputs": [
        {
          "output_type": "stream",
          "name": "stdout",
          "text": [
            "['a', 'l', 'p', 'h', 'a', 'b', 'e', 't', ' ', 'i', 'n', 'c']\n"
          ]
        }
      ]
    },
    {
      "cell_type": "code",
      "source": [
        "days=('monday','tuesday','wednesday','thursday','friday','saturday','sunday')\n",
        "tuple(day for day in days)"
      ],
      "metadata": {
        "colab": {
          "base_uri": "https://localhost:8080/"
        },
        "id": "-8nwB-ZR3fIB",
        "outputId": "82a60916-6d2d-471d-a8ce-63ddb10878cf"
      },
      "execution_count": 30,
      "outputs": [
        {
          "output_type": "execute_result",
          "data": {
            "text/plain": [
              "('monday', 'tuesday', 'wednesday', 'thursday', 'friday', 'saturday', 'sunday')"
            ]
          },
          "metadata": {},
          "execution_count": 30
        }
      ]
    },
    {
      "cell_type": "code",
      "source": [
        "days_without_day=tuple(day[:-3] for day in days)\n",
        "print(days_without_day)"
      ],
      "metadata": {
        "colab": {
          "base_uri": "https://localhost:8080/"
        },
        "id": "4K3msP2L3j-z",
        "outputId": "9eada538-794f-4370-a7fd-7adf96f843df"
      },
      "execution_count": 31,
      "outputs": [
        {
          "output_type": "stream",
          "name": "stdout",
          "text": [
            "('mon', 'tues', 'wednes', 'thurs', 'fri', 'satur', 'sun')\n"
          ]
        }
      ]
    },
    {
      "cell_type": "code",
      "source": [
        "first_letters=set()\n",
        "for word in words_by_walter:\n",
        "    first_letters.add(word[0])\n",
        "print(first_letters)"
      ],
      "metadata": {
        "colab": {
          "base_uri": "https://localhost:8080/"
        },
        "id": "113W2jSm3poF",
        "outputId": "42689e1c-d75c-4cdb-ab51-993895f5c0ea"
      },
      "execution_count": 34,
      "outputs": [
        {
          "output_type": "stream",
          "name": "stdout",
          "text": [
            "{'y', 'l', 'a', 'i', 'e', 't', 'k', 'm', 'w', 's', 'c', 'n', 'd'}\n"
          ]
        }
      ]
    },
    {
      "cell_type": "code",
      "source": [
        "first_letters=[word[0] for word in words_by_walter]\n",
        "print(first_letters)"
      ],
      "metadata": {
        "colab": {
          "base_uri": "https://localhost:8080/"
        },
        "id": "SaMhmMUd39ID",
        "outputId": "2f59074f-6287-4718-e869-42d3c719a14c"
      },
      "execution_count": 36,
      "outputs": [
        {
          "output_type": "stream",
          "name": "stdout",
          "text": [
            "['i', 'c', 't', 'e', 'w', 'm', 'n', 'c', 'd', 'k', 'w', 'y', 'a', 't', 't', 's', 'l', 'm', 'c', 'y', 'i', 'd']\n"
          ]
        }
      ]
    },
    {
      "cell_type": "code",
      "source": [
        "country_city_list=[('india','new delhi'),('australia','cannebara'),('united states','washingdon dc'),('engaland','london')]\n",
        "country_city_dic=dict(country_city_list)\n",
        "print(country_city_dic)"
      ],
      "metadata": {
        "colab": {
          "base_uri": "https://localhost:8080/"
        },
        "id": "Ln3Ctw_F4MoL",
        "outputId": "c8875b3e-09b9-4572-a416-45816b93a00b"
      },
      "execution_count": 37,
      "outputs": [
        {
          "output_type": "stream",
          "name": "stdout",
          "text": [
            "{'india': 'new delhi', 'australia': 'cannebara', 'united states': 'washingdon dc', 'engaland': 'london'}\n"
          ]
        }
      ]
    },
    {
      "cell_type": "code",
      "source": [
        "flipped={}\n",
        "for country, city in country_city_dic.items():\n",
        "    flipped[city]=country\n",
        "print(flipped)"
      ],
      "metadata": {
        "colab": {
          "base_uri": "https://localhost:8080/"
        },
        "id": "dDKMlDoa4Rzc",
        "outputId": "0e09fcf5-0890-45f7-a668-2745a2b2b82a"
      },
      "execution_count": 39,
      "outputs": [
        {
          "output_type": "stream",
          "name": "stdout",
          "text": [
            "{'new delhi': 'india', 'cannebara': 'australia', 'washingdon dc': 'united states', 'london': 'engaland'}\n"
          ]
        }
      ]
    },
    {
      "cell_type": "code",
      "source": [
        "flipped={city:country for country, city in country_city_dic.items() if country[0] in['e','a']}\n",
        "print(flipped)"
      ],
      "metadata": {
        "colab": {
          "base_uri": "https://localhost:8080/"
        },
        "id": "8gTQYOhh4d0B",
        "outputId": "19559482-69b2-489b-e09b-f1d46ac64568"
      },
      "execution_count": 40,
      "outputs": [
        {
          "output_type": "stream",
          "name": "stdout",
          "text": [
            "{'cannebara': 'australia', 'london': 'engaland'}\n"
          ]
        }
      ]
    },
    {
      "cell_type": "code",
      "source": [
        "flipped={country[:2]:city[-2:]  for country, city in country_city_dic.items()}\n",
        "print(flipped)"
      ],
      "metadata": {
        "colab": {
          "base_uri": "https://localhost:8080/"
        },
        "id": "5aCIF5pT4nM_",
        "outputId": "b02deb1b-b93e-412a-f24f-9679ee165cc3"
      },
      "execution_count": 41,
      "outputs": [
        {
          "output_type": "stream",
          "name": "stdout",
          "text": [
            "{'in': 'hi', 'au': 'ra', 'un': 'dc', 'en': 'on'}\n"
          ]
        }
      ]
    },
    {
      "cell_type": "code",
      "source": [
        "print(country_city_dic)"
      ],
      "metadata": {
        "colab": {
          "base_uri": "https://localhost:8080/"
        },
        "id": "Vb_mBPWb4qOg",
        "outputId": "515e3129-4a4c-404f-a327-09777ba5f798"
      },
      "execution_count": 42,
      "outputs": [
        {
          "output_type": "stream",
          "name": "stdout",
          "text": [
            "{'india': 'new delhi', 'australia': 'cannebara', 'united states': 'washingdon dc', 'engaland': 'london'}\n"
          ]
        }
      ]
    }
  ]
}