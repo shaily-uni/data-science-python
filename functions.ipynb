{
  "nbformat": 4,
  "nbformat_minor": 0,
  "metadata": {
    "colab": {
      "provenance": [],
      "authorship_tag": "ABX9TyO7i6bDv395u/tyKM2/rJtY",
      "include_colab_link": true
    },
    "kernelspec": {
      "name": "python3",
      "display_name": "Python 3"
    },
    "language_info": {
      "name": "python"
    }
  },
  "cells": [
    {
      "cell_type": "markdown",
      "metadata": {
        "id": "view-in-github",
        "colab_type": "text"
      },
      "source": [
        "<a href=\"https://colab.research.google.com/github/shaily-uni/data-science-python/blob/main/functions.ipynb\" target=\"_parent\"><img src=\"https://colab.research.google.com/assets/colab-badge.svg\" alt=\"Open In Colab\"/></a>"
      ]
    },
    {
      "cell_type": "code",
      "execution_count": 1,
      "metadata": {
        "colab": {
          "base_uri": "https://localhost:8080/"
        },
        "id": "M9n-U7k4vEPi",
        "outputId": "663c4f07-6f43-46e5-d3e5-5ea4fc3918e5"
      },
      "outputs": [
        {
          "output_type": "stream",
          "name": "stdout",
          "text": [
            "['i', 'c', 't', 'e', 'w', 'm', 'n', 'c', 'd', 'k', 'w', 'y', 'a', 't', 't', 's', 'l', 'm', 'c', 'y', 'i', 'd']\n"
          ]
        }
      ],
      "source": [
        "heisenberg_quote=\"it ceases to exist without me no clearly dont know who you are taking to so let me clue you in dang \"\n",
        "words_by_walter=heisenberg_quote.split()\n",
        "first_letters=[word[0] for word in words_by_walter]\n",
        "print(first_letters)"
      ]
    },
    {
      "cell_type": "code",
      "source": [
        "heisenberg_quote=\"it ceases to exist without me. no, clearly dont know who you are taking to so let me clue you in dang\"\n",
        "def extract_first_letters(sentence):\n",
        "  words_in_sentence=sentence.split(' ')\n",
        "  first_letters = [word[0] for  word in words_in_sentence]\n",
        "  return first_letters\n",
        "print(extract_first_letters(heisenberg_quote))"
      ],
      "metadata": {
        "colab": {
          "base_uri": "https://localhost:8080/"
        },
        "id": "_f_pTw8HvJ1x",
        "outputId": "ffbaffaa-84a9-4a18-93bc-675cfc3e71fd"
      },
      "execution_count": 2,
      "outputs": [
        {
          "output_type": "stream",
          "name": "stdout",
          "text": [
            "['i', 'c', 't', 'e', 'w', 'm', 'n', 'c', 'd', 'k', 'w', 'y', 'a', 't', 't', 's', 'l', 'm', 'c', 'y', 'i', 'd']\n"
          ]
        }
      ]
    },
    {
      "cell_type": "code",
      "source": [
        "starwars_quoote=\"May the force be with you\"\n",
        "FIRST_LETTERS_STARWARS=extract_first_letters(starwars_quoote)\n",
        "print(FIRST_LETTERS_STARWARS)"
      ],
      "metadata": {
        "colab": {
          "base_uri": "https://localhost:8080/"
        },
        "id": "aokb8NV_vTcL",
        "outputId": "9fa2d4e9-08fa-400f-84fd-e5aee39700fc"
      },
      "execution_count": 3,
      "outputs": [
        {
          "output_type": "stream",
          "name": "stdout",
          "text": [
            "['M', 't', 'f', 'b', 'w', 'y']\n"
          ]
        }
      ]
    },
    {
      "cell_type": "code",
      "source": [
        "def factorial(num):\n",
        " result=1\n",
        " if num<0:\n",
        "  print(\"factorial is not defined for negative numbers\")\n",
        " elif num>0:\n",
        "    for i in range(1,num+1):\n",
        "      result=result*i\n",
        "    print(f\"the factorila of {num} is {result}\")\n",
        " else:\n",
        "    result=1\n",
        "    print('factorial of 0 is', result)\n",
        "factorial(5)"
      ],
      "metadata": {
        "colab": {
          "base_uri": "https://localhost:8080/"
        },
        "id": "Tl1b0o5YvXEL",
        "outputId": "8d2b66d8-5229-4b5a-f906-b8f7c0285bcd"
      },
      "execution_count": 4,
      "outputs": [
        {
          "output_type": "stream",
          "name": "stdout",
          "text": [
            "the factorila of 5 is 120\n"
          ]
        }
      ]
    },
    {
      "cell_type": "code",
      "source": [
        "def asignquarter(user_date):\n",
        "  date_year=user_date[:4]\n",
        "  date_month=user_date[5:7]\n",
        "  if(date_month>='01')&(date_month<='03'):\n",
        "    quarter=date_year+'-Q1'\n",
        "  elif(date_month>='04')&(date_month<='06'):\n",
        "     quarter=date_year+'-Q2'\n",
        "  elif(date_month>='07')&(date_month<='09'):\n",
        "     quarter=date_year+'-Q3'\n",
        "  elif(date_month>='10')&(date_month<='12'):\n",
        "     quarter=date_year+'-Q4'\n",
        "  print(f'the corresponding date for date {user_date} is {quarter}')\n",
        "sample_date='2022-04-01'\n",
        "date_quarter=asignquarter(sample_date)\n",
        "print(date_quarter)\n",
        ""
      ],
      "metadata": {
        "colab": {
          "base_uri": "https://localhost:8080/"
        },
        "id": "a65IfhhtvZSM",
        "outputId": "86a474ff-2a08-419a-9194-3ade8097a5c6"
      },
      "execution_count": 10,
      "outputs": [
        {
          "output_type": "stream",
          "name": "stdout",
          "text": [
            "the corresponding date for date 2022-04-01 is 2022-Q2\n",
            "None\n"
          ]
        }
      ]
    },
    {
      "cell_type": "code",
      "source": [
        "def evenorodd(num):\n",
        "  if num%2==0:\n",
        "    return 'even'\n",
        "  return 'odd'\n",
        "result=evenorodd(5)\n",
        "print(result)"
      ],
      "metadata": {
        "colab": {
          "base_uri": "https://localhost:8080/"
        },
        "id": "erUNww03xcWY",
        "outputId": "2487a0fb-0111-46a5-a3f9-5b681dad6e62"
      },
      "execution_count": 12,
      "outputs": [
        {
          "output_type": "stream",
          "name": "stdout",
          "text": [
            "odd\n"
          ]
        }
      ]
    },
    {
      "cell_type": "code",
      "source": [
        "heights=[11134,4656,454,454,5434]\n",
        "def list_append(mylist,elem):\n",
        "  newlist=mylist+[elem]\n",
        "  return newlist\n",
        "print(heights)"
      ],
      "metadata": {
        "colab": {
          "base_uri": "https://localhost:8080/"
        },
        "id": "0ITus7HvyD9E",
        "outputId": "9081070d-f160-458c-f39b-f1e722465918"
      },
      "execution_count": 14,
      "outputs": [
        {
          "output_type": "stream",
          "name": "stdout",
          "text": [
            "[11134, 4656, 454, 454, 5434]\n"
          ]
        }
      ]
    },
    {
      "cell_type": "code",
      "source": [
        "list_append(heights,1878)"
      ],
      "metadata": {
        "colab": {
          "base_uri": "https://localhost:8080/"
        },
        "id": "GNuVxYL6ytEy",
        "outputId": "4e491c8e-2dd3-4a6f-8c94-51a68368aed5"
      },
      "execution_count": 15,
      "outputs": [
        {
          "output_type": "execute_result",
          "data": {
            "text/plain": [
              "[11134, 4656, 454, 454, 5434, 1878]"
            ]
          },
          "metadata": {},
          "execution_count": 15
        }
      ]
    },
    {
      "cell_type": "code",
      "source": [
        "list_append(heights,elem=40)"
      ],
      "metadata": {
        "colab": {
          "base_uri": "https://localhost:8080/"
        },
        "id": "UvS9x7kRy8vh",
        "outputId": "c51de5aa-1b9c-4cfa-e2a8-13a899d53cac"
      },
      "execution_count": 16,
      "outputs": [
        {
          "output_type": "execute_result",
          "data": {
            "text/plain": [
              "[11134, 4656, 454, 454, 5434, 40]"
            ]
          },
          "metadata": {},
          "execution_count": 16
        }
      ]
    },
    {
      "cell_type": "code",
      "source": [
        "heights.append(40)\n",
        "print(heights)"
      ],
      "metadata": {
        "colab": {
          "base_uri": "https://localhost:8080/"
        },
        "id": "wZKc6qNdzDbW",
        "outputId": "80acf0b5-ad90-4ec3-e60c-fcdf4fa19cbd"
      },
      "execution_count": 18,
      "outputs": [
        {
          "output_type": "stream",
          "name": "stdout",
          "text": [
            "[11134, 4656, 454, 454, 5434, 40, 40]\n"
          ]
        }
      ]
    }
  ]
}