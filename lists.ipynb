{
  "cells": [
    {
      "cell_type": "markdown",
      "metadata": {
        "id": "view-in-github",
        "colab_type": "text"
      },
      "source": [
        "<a href=\"https://colab.research.google.com/github/shaily-uni/data-science-python/blob/main/lists.ipynb\" target=\"_parent\"><img src=\"https://colab.research.google.com/assets/colab-badge.svg\" alt=\"Open In Colab\"/></a>"
      ]
    },
    {
      "cell_type": "code",
      "execution_count": null,
      "metadata": {
        "colab": {
          "base_uri": "https://localhost:8080/"
        },
        "id": "gdDHFIuKdsSi",
        "outputId": "b662810e-269f-4eeb-e45d-2bb7004d3337"
      },
      "outputs": [
        {
          "name": "stdout",
          "output_type": "stream",
          "text": [
            "[1, 2, 3, 4]\n"
          ]
        }
      ],
      "source": [
        "my_list=[1,2,3,4]\n",
        "print(my_list)\n",
        "type(my_list)\n"
      ]
    },
    {
      "cell_type": "code",
      "execution_count": null,
      "metadata": {
        "colab": {
          "base_uri": "https://localhost:8080/"
        },
        "id": "0svp9MsIeFns",
        "outputId": "b39a43c1-ea7b-46f7-c180-84099110936c"
      },
      "outputs": [
        {
          "data": {
            "text/plain": [
              "5"
            ]
          },
          "execution_count": 3,
          "metadata": {},
          "output_type": "execute_result"
        }
      ],
      "source": [
        "my_list=[\"mystring\",122,44.77,'o', True]\n",
        "len(my_list)"
      ]
    },
    {
      "cell_type": "code",
      "execution_count": null,
      "metadata": {
        "colab": {
          "base_uri": "https://localhost:8080/"
        },
        "id": "RFrQmd7MekwZ",
        "outputId": "6db7c59a-b1fb-4ce0-c2a9-b4d0506df04c"
      },
      "outputs": [
        {
          "name": "stdout",
          "output_type": "stream",
          "text": [
            "mean squared error\n"
          ]
        },
        {
          "data": {
            "text/plain": [
              "4"
            ]
          },
          "execution_count": 6,
          "metadata": {},
          "output_type": "execute_result"
        }
      ],
      "source": [
        "loss_functions=[\"mean squared error\",\"mean absolute error\",'huber loss','hinge loss']\n",
        "print(loss_functions[0])\n",
        "len(loss_functions)"
      ]
    },
    {
      "cell_type": "code",
      "execution_count": null,
      "metadata": {
        "colab": {
          "base_uri": "https://localhost:8080/"
        },
        "id": "XTttexMWlDTI",
        "outputId": "fc963eed-6057-4ef3-a13f-64fce5e0240b"
      },
      "outputs": [
        {
          "name": "stdout",
          "output_type": "stream",
          "text": [
            "['mean absolute error', 'huber loss', 'hinge loss']\n"
          ]
        }
      ],
      "source": [
        "print(loss_functions[1:4])"
      ]
    },
    {
      "cell_type": "code",
      "execution_count": null,
      "metadata": {
        "colab": {
          "base_uri": "https://localhost:8080/"
        },
        "id": "cOnMaPDCoria",
        "outputId": "9b20c3a4-0490-4b93-bcf6-232f53106aab"
      },
      "outputs": [
        {
          "data": {
            "text/plain": [
              "['huber loss', 'hinge loss']"
            ]
          },
          "execution_count": 11,
          "metadata": {},
          "output_type": "execute_result"
        }
      ],
      "source": [
        "loss_functions[2:]"
      ]
    },
    {
      "cell_type": "code",
      "execution_count": null,
      "metadata": {
        "colab": {
          "base_uri": "https://localhost:8080/"
        },
        "id": "SU5te15LoyoB",
        "outputId": "152d0c98-0fe7-435a-ac37-6b196ae44315"
      },
      "outputs": [
        {
          "name": "stdout",
          "output_type": "stream",
          "text": [
            "['mean squared error', 'mean absolute error', 'huber loss', 'hinge loss']\n"
          ]
        }
      ],
      "source": [
        "print(loss_functions[-4:])"
      ]
    },
    {
      "cell_type": "code",
      "execution_count": null,
      "metadata": {
        "colab": {
          "base_uri": "https://localhost:8080/"
        },
        "id": "ySAT4A2PpBDr",
        "outputId": "e7466473-2eae-482d-8636-0d5c1c8b226b"
      },
      "outputs": [
        {
          "data": {
            "text/plain": [
              "4"
            ]
          },
          "execution_count": 13,
          "metadata": {},
          "output_type": "execute_result"
        }
      ],
      "source": [
        "len(loss_functions)"
      ]
    },
    {
      "cell_type": "code",
      "execution_count": null,
      "metadata": {
        "colab": {
          "base_uri": "https://localhost:8080/"
        },
        "id": "5yH_Jl7ZpYnO",
        "outputId": "a5a7b252-6dce-4a0b-f65f-337de2b8e0b9"
      },
      "outputs": [
        {
          "data": {
            "text/plain": [
              "['mean squared error',\n",
              " 'mean absolute error',\n",
              " 'huber loss',\n",
              " 'hinge loss',\n",
              " 'kullback-leiber']"
            ]
          },
          "execution_count": 16,
          "metadata": {},
          "output_type": "execute_result"
        }
      ],
      "source": [
        "loss_functions + [\"kullback-leiber\"]"
      ]
    },
    {
      "cell_type": "code",
      "execution_count": null,
      "metadata": {
        "colab": {
          "base_uri": "https://localhost:8080/"
        },
        "id": "7kv3M9iCp-UD",
        "outputId": "202d2563-3471-4a0b-c966-957a903c261d"
      },
      "outputs": [
        {
          "data": {
            "text/plain": [
              "20"
            ]
          },
          "execution_count": 17,
          "metadata": {},
          "output_type": "execute_result"
        }
      ],
      "source": [
        "len(loss_functions*5)"
      ]
    },
    {
      "cell_type": "code",
      "execution_count": null,
      "metadata": {
        "colab": {
          "base_uri": "https://localhost:8080/"
        },
        "id": "OPliumMJqQ1G",
        "outputId": "9b19d8fd-0551-4ac3-be0f-211936cb9fa1"
      },
      "outputs": [
        {
          "data": {
            "text/plain": [
              "3"
            ]
          },
          "execution_count": 21,
          "metadata": {},
          "output_type": "execute_result"
        }
      ],
      "source": [
        "new_list=[6,7,8,9,3,3]\n",
        "min(new_list)"
      ]
    },
    {
      "cell_type": "code",
      "execution_count": null,
      "metadata": {
        "id": "3cIGnbYcqekH"
      },
      "outputs": [],
      "source": []
    },
    {
      "cell_type": "code",
      "execution_count": null,
      "metadata": {
        "colab": {
          "base_uri": "https://localhost:8080/"
        },
        "id": "Sju63cujqu2f",
        "outputId": "8a8f2f92-7dc6-4d14-87cd-68192394e325"
      },
      "outputs": [
        {
          "data": {
            "text/plain": [
              "9"
            ]
          },
          "execution_count": 22,
          "metadata": {},
          "output_type": "execute_result"
        }
      ],
      "source": [
        "max(new_list)\n"
      ]
    },
    {
      "cell_type": "code",
      "execution_count": null,
      "metadata": {
        "colab": {
          "base_uri": "https://localhost:8080/"
        },
        "id": "ICVdVi0KqxwY",
        "outputId": "6517b686-4614-461c-e755-0d2606b2e5d2"
      },
      "outputs": [
        {
          "data": {
            "text/plain": [
              "36"
            ]
          },
          "execution_count": 23,
          "metadata": {},
          "output_type": "execute_result"
        }
      ],
      "source": [
        "sum(new_list)\n"
      ]
    },
    {
      "cell_type": "code",
      "execution_count": null,
      "metadata": {
        "colab": {
          "base_uri": "https://localhost:8080/"
        },
        "id": "CynBGpfyq0Wg",
        "outputId": "a6abf7ee-945e-4116-8bf5-43181a88b5c8"
      },
      "outputs": [
        {
          "data": {
            "text/plain": [
              "[3, 3, 6, 7, 8, 9]"
            ]
          },
          "execution_count": 27,
          "metadata": {},
          "output_type": "execute_result"
        }
      ],
      "source": [
        "sorted(new_list)"
      ]
    },
    {
      "cell_type": "code",
      "execution_count": null,
      "metadata": {
        "colab": {
          "base_uri": "https://localhost:8080/"
        },
        "id": "G2zRx-Gnq8hZ",
        "outputId": "cd176274-6a46-4fe9-ce12-631f8a833187"
      },
      "outputs": [
        {
          "data": {
            "text/plain": [
              "[9, 8, 7, 6, 3, 3]"
            ]
          },
          "execution_count": 26,
          "metadata": {},
          "output_type": "execute_result"
        }
      ],
      "source": [
        "sorted(new_list,reverse=True)\n"
      ]
    },
    {
      "cell_type": "code",
      "execution_count": null,
      "metadata": {
        "colab": {
          "base_uri": "https://localhost:8080/"
        },
        "id": "rpcy3XZirMB1",
        "outputId": "47a946a4-b345-43db-e0c9-25e00510df8f"
      },
      "outputs": [
        {
          "data": {
            "text/plain": [
              "['mystring', 122, 44.77, 'o', True, 'append me']"
            ]
          },
          "execution_count": 28,
          "metadata": {},
          "output_type": "execute_result"
        }
      ],
      "source": [
        "my_list.append(\"append me\")\n",
        "my_list"
      ]
    },
    {
      "cell_type": "code",
      "execution_count": null,
      "metadata": {
        "colab": {
          "background_save": true
        },
        "id": "2QUyu9XKrz26",
        "outputId": "2ce9e5d9-0c79-401f-e21f-79959ff52085"
      },
      "outputs": [
        {
          "data": {
            "text/plain": [
              "['mystring', 122, 44.77, 'o', True, 'append me', '6889']"
            ]
          },
          "execution_count": 29,
          "metadata": {},
          "output_type": "execute_result"
        }
      ],
      "source": [
        "my_list.append(\"6889\")\n"
      ]
    }
  ],
  "metadata": {
    "colab": {
      "provenance": [],
      "authorship_tag": "ABX9TyPLBs/zwMc3rydg/yMPK8N+",
      "include_colab_link": true
    },
    "kernelspec": {
      "display_name": "Python 3",
      "name": "python3"
    },
    "language_info": {
      "name": "python"
    }
  },
  "nbformat": 4,
  "nbformat_minor": 0
}