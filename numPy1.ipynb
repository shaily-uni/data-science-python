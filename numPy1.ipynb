{
  "nbformat": 4,
  "nbformat_minor": 0,
  "metadata": {
    "colab": {
      "provenance": []
    },
    "kernelspec": {
      "name": "python3",
      "display_name": "Python 3"
    },
    "language_info": {
      "name": "python"
    }
  },
  "cells": [
    {
      "cell_type": "code",
      "execution_count": null,
      "metadata": {
        "colab": {
          "base_uri": "https://localhost:8080/"
        },
        "id": "KKjPvrlZwu1V",
        "outputId": "7973af52-5d65-4a4e-d031-96b404dd7f7e"
      },
      "outputs": [
        {
          "output_type": "stream",
          "name": "stdout",
          "text": [
            "[2 4 6 8 9]\n"
          ]
        }
      ],
      "source": [
        "import numpy as np\n",
        "my_array=np.array([2,4,6,8,9])\n",
        "print(my_array)"
      ]
    },
    {
      "cell_type": "code",
      "source": [
        "type(my_array)"
      ],
      "metadata": {
        "colab": {
          "base_uri": "https://localhost:8080/"
        },
        "id": "BctRCeVQ1P4Q",
        "outputId": "6a208b20-bcdf-4aad-f397-05abd8aa93a4"
      },
      "execution_count": null,
      "outputs": [
        {
          "output_type": "execute_result",
          "data": {
            "text/plain": [
              "numpy.ndarray"
            ]
          },
          "metadata": {},
          "execution_count": 4
        }
      ]
    },
    {
      "cell_type": "code",
      "source": [
        "my_array.shape"
      ],
      "metadata": {
        "colab": {
          "base_uri": "https://localhost:8080/"
        },
        "id": "C3tiAg1Q1TA6",
        "outputId": "aba6ac6d-45ec-43bc-f9c3-8018278de56d"
      },
      "execution_count": null,
      "outputs": [
        {
          "output_type": "execute_result",
          "data": {
            "text/plain": [
              "(5,)"
            ]
          },
          "metadata": {},
          "execution_count": 5
        }
      ]
    },
    {
      "cell_type": "code",
      "source": [
        "my_array.size"
      ],
      "metadata": {
        "colab": {
          "base_uri": "https://localhost:8080/"
        },
        "id": "q6BuQwis1XZr",
        "outputId": "ab6c42ac-979c-4033-d47e-27a02a815a70"
      },
      "execution_count": null,
      "outputs": [
        {
          "output_type": "execute_result",
          "data": {
            "text/plain": [
              "5"
            ]
          },
          "metadata": {},
          "execution_count": 6
        }
      ]
    },
    {
      "cell_type": "code",
      "source": [
        "my_array2=np.array([[2,4,6,8],[1,3,5,7]])\n",
        "print(my_array2)"
      ],
      "metadata": {
        "colab": {
          "base_uri": "https://localhost:8080/"
        },
        "id": "7FNIt54b1aho",
        "outputId": "5e99ceaf-fa0f-4ca3-8094-3b4476e874ef"
      },
      "execution_count": null,
      "outputs": [
        {
          "output_type": "stream",
          "name": "stdout",
          "text": [
            "[[2 4 6 8]\n",
            " [1 3 5 7]]\n"
          ]
        }
      ]
    },
    {
      "cell_type": "code",
      "source": [
        "my_array2[1][3]"
      ],
      "metadata": {
        "colab": {
          "base_uri": "https://localhost:8080/"
        },
        "id": "uC0PU5Hz17m4",
        "outputId": "430e3d00-35b8-411d-a6a8-32b28f5d8309"
      },
      "execution_count": null,
      "outputs": [
        {
          "output_type": "execute_result",
          "data": {
            "text/plain": [
              "7"
            ]
          },
          "metadata": {},
          "execution_count": 10
        }
      ]
    },
    {
      "cell_type": "code",
      "source": [
        "my_array2[0][2]"
      ],
      "metadata": {
        "colab": {
          "base_uri": "https://localhost:8080/"
        },
        "id": "Bkemx4GN2DFP",
        "outputId": "909c8dd8-17a1-482c-e5c0-cd50c9b976d7"
      },
      "execution_count": null,
      "outputs": [
        {
          "output_type": "execute_result",
          "data": {
            "text/plain": [
              "6"
            ]
          },
          "metadata": {},
          "execution_count": 11
        }
      ]
    },
    {
      "cell_type": "code",
      "source": [
        "my_array2[1:,2:]"
      ],
      "metadata": {
        "colab": {
          "base_uri": "https://localhost:8080/"
        },
        "id": "vYVpN7aL2Oir",
        "outputId": "6f3ea8f4-9525-4227-cb17-07efe9bddca2"
      },
      "execution_count": null,
      "outputs": [
        {
          "output_type": "execute_result",
          "data": {
            "text/plain": [
              "array([[5, 7]])"
            ]
          },
          "metadata": {},
          "execution_count": 14
        }
      ]
    },
    {
      "cell_type": "code",
      "source": [
        "my_array2.shape"
      ],
      "metadata": {
        "colab": {
          "base_uri": "https://localhost:8080/"
        },
        "id": "V-nS1miA3Doz",
        "outputId": "ba95cafb-6bf7-40f9-fa80-30c76e069143"
      },
      "execution_count": null,
      "outputs": [
        {
          "output_type": "execute_result",
          "data": {
            "text/plain": [
              "(2, 4)"
            ]
          },
          "metadata": {},
          "execution_count": 15
        }
      ]
    },
    {
      "cell_type": "code",
      "source": [
        "import sklearn as skl\n",
        "import sklearn.datasets as data\n",
        "data"
      ],
      "metadata": {
        "colab": {
          "base_uri": "https://localhost:8080/"
        },
        "id": "BJn9BLRWjvwG",
        "outputId": "e0bc2a06-ac72-4626-b300-ccce5af65b3e"
      },
      "execution_count": null,
      "outputs": [
        {
          "output_type": "execute_result",
          "data": {
            "text/plain": [
              "<module 'sklearn.datasets' from '/usr/local/lib/python3.11/dist-packages/sklearn/datasets/__init__.py'>"
            ]
          },
          "metadata": {},
          "execution_count": 10
        }
      ]
    },
    {
      "cell_type": "code",
      "source": [
        "data.load_wine()"
      ],
      "metadata": {
        "colab": {
          "base_uri": "https://localhost:8080/"
        },
        "id": "zKit1_lCj6TE",
        "outputId": "58f2d570-718d-4b5d-acd9-c74850491089"
      },
      "execution_count": null,
      "outputs": [
        {
          "output_type": "execute_result",
          "data": {
            "text/plain": [
              "{'data': array([[1.423e+01, 1.710e+00, 2.430e+00, ..., 1.040e+00, 3.920e+00,\n",
              "         1.065e+03],\n",
              "        [1.320e+01, 1.780e+00, 2.140e+00, ..., 1.050e+00, 3.400e+00,\n",
              "         1.050e+03],\n",
              "        [1.316e+01, 2.360e+00, 2.670e+00, ..., 1.030e+00, 3.170e+00,\n",
              "         1.185e+03],\n",
              "        ...,\n",
              "        [1.327e+01, 4.280e+00, 2.260e+00, ..., 5.900e-01, 1.560e+00,\n",
              "         8.350e+02],\n",
              "        [1.317e+01, 2.590e+00, 2.370e+00, ..., 6.000e-01, 1.620e+00,\n",
              "         8.400e+02],\n",
              "        [1.413e+01, 4.100e+00, 2.740e+00, ..., 6.100e-01, 1.600e+00,\n",
              "         5.600e+02]]),\n",
              " 'target': array([0, 0, 0, 0, 0, 0, 0, 0, 0, 0, 0, 0, 0, 0, 0, 0, 0, 0, 0, 0, 0, 0,\n",
              "        0, 0, 0, 0, 0, 0, 0, 0, 0, 0, 0, 0, 0, 0, 0, 0, 0, 0, 0, 0, 0, 0,\n",
              "        0, 0, 0, 0, 0, 0, 0, 0, 0, 0, 0, 0, 0, 0, 0, 1, 1, 1, 1, 1, 1, 1,\n",
              "        1, 1, 1, 1, 1, 1, 1, 1, 1, 1, 1, 1, 1, 1, 1, 1, 1, 1, 1, 1, 1, 1,\n",
              "        1, 1, 1, 1, 1, 1, 1, 1, 1, 1, 1, 1, 1, 1, 1, 1, 1, 1, 1, 1, 1, 1,\n",
              "        1, 1, 1, 1, 1, 1, 1, 1, 1, 1, 1, 1, 1, 1, 1, 1, 1, 1, 1, 1, 2, 2,\n",
              "        2, 2, 2, 2, 2, 2, 2, 2, 2, 2, 2, 2, 2, 2, 2, 2, 2, 2, 2, 2, 2, 2,\n",
              "        2, 2, 2, 2, 2, 2, 2, 2, 2, 2, 2, 2, 2, 2, 2, 2, 2, 2, 2, 2, 2, 2,\n",
              "        2, 2]),\n",
              " 'frame': None,\n",
              " 'target_names': array(['class_0', 'class_1', 'class_2'], dtype='<U7'),\n",
              " 'DESCR': '.. _wine_dataset:\\n\\nWine recognition dataset\\n------------------------\\n\\n**Data Set Characteristics:**\\n\\n:Number of Instances: 178\\n:Number of Attributes: 13 numeric, predictive attributes and the class\\n:Attribute Information:\\n    - Alcohol\\n    - Malic acid\\n    - Ash\\n    - Alcalinity of ash\\n    - Magnesium\\n    - Total phenols\\n    - Flavanoids\\n    - Nonflavanoid phenols\\n    - Proanthocyanins\\n    - Color intensity\\n    - Hue\\n    - OD280/OD315 of diluted wines\\n    - Proline\\n    - class:\\n        - class_0\\n        - class_1\\n        - class_2\\n\\n:Summary Statistics:\\n\\n============================= ==== ===== ======= =====\\n                                Min   Max   Mean     SD\\n============================= ==== ===== ======= =====\\nAlcohol:                      11.0  14.8    13.0   0.8\\nMalic Acid:                   0.74  5.80    2.34  1.12\\nAsh:                          1.36  3.23    2.36  0.27\\nAlcalinity of Ash:            10.6  30.0    19.5   3.3\\nMagnesium:                    70.0 162.0    99.7  14.3\\nTotal Phenols:                0.98  3.88    2.29  0.63\\nFlavanoids:                   0.34  5.08    2.03  1.00\\nNonflavanoid Phenols:         0.13  0.66    0.36  0.12\\nProanthocyanins:              0.41  3.58    1.59  0.57\\nColour Intensity:              1.3  13.0     5.1   2.3\\nHue:                          0.48  1.71    0.96  0.23\\nOD280/OD315 of diluted wines: 1.27  4.00    2.61  0.71\\nProline:                       278  1680     746   315\\n============================= ==== ===== ======= =====\\n\\n:Missing Attribute Values: None\\n:Class Distribution: class_0 (59), class_1 (71), class_2 (48)\\n:Creator: R.A. Fisher\\n:Donor: Michael Marshall (MARSHALL%PLU@io.arc.nasa.gov)\\n:Date: July, 1988\\n\\nThis is a copy of UCI ML Wine recognition datasets.\\nhttps://archive.ics.uci.edu/ml/machine-learning-databases/wine/wine.data\\n\\nThe data is the results of a chemical analysis of wines grown in the same\\nregion in Italy by three different cultivators. There are thirteen different\\nmeasurements taken for different constituents found in the three types of\\nwine.\\n\\nOriginal Owners:\\n\\nForina, M. et al, PARVUS -\\nAn Extendible Package for Data Exploration, Classification and Correlation.\\nInstitute of Pharmaceutical and Food Analysis and Technologies,\\nVia Brigata Salerno, 16147 Genoa, Italy.\\n\\nCitation:\\n\\nLichman, M. (2013). UCI Machine Learning Repository\\n[https://archive.ics.uci.edu/ml]. Irvine, CA: University of California,\\nSchool of Information and Computer Science.\\n\\n.. dropdown:: References\\n\\n    (1) S. Aeberhard, D. Coomans and O. de Vel,\\n    Comparison of Classifiers in High Dimensional Settings,\\n    Tech. Rep. no. 92-02, (1992), Dept. of Computer Science and Dept. of\\n    Mathematics and Statistics, James Cook University of North Queensland.\\n    (Also submitted to Technometrics).\\n\\n    The data was used with many others for comparing various\\n    classifiers. The classes are separable, though only RDA\\n    has achieved 100% correct classification.\\n    (RDA : 100%, QDA 99.4%, LDA 98.9%, 1NN 96.1% (z-transformed data))\\n    (All results using the leave-one-out technique)\\n\\n    (2) S. Aeberhard, D. Coomans and O. de Vel,\\n    \"THE CLASSIFICATION PERFORMANCE OF RDA\"\\n    Tech. Rep. no. 92-01, (1992), Dept. of Computer Science and Dept. of\\n    Mathematics and Statistics, James Cook University of North Queensland.\\n    (Also submitted to Journal of Chemometrics).\\n',\n",
              " 'feature_names': ['alcohol',\n",
              "  'malic_acid',\n",
              "  'ash',\n",
              "  'alcalinity_of_ash',\n",
              "  'magnesium',\n",
              "  'total_phenols',\n",
              "  'flavanoids',\n",
              "  'nonflavanoid_phenols',\n",
              "  'proanthocyanins',\n",
              "  'color_intensity',\n",
              "  'hue',\n",
              "  'od280/od315_of_diluted_wines',\n",
              "  'proline']}"
            ]
          },
          "metadata": {},
          "execution_count": 11
        }
      ]
    },
    {
      "cell_type": "code",
      "source": [
        "import numpy as np\n",
        "import matplotlib.pyplot as plt\n",
        "height=50\n",
        "width=50\n",
        "random_image=np.random.randint(0,256,(height,width,4),dtype=np.uint8)\n",
        "print(\"Matrix representing random image:\")\n",
        "print(random_image)\n",
        "\n",
        "# Display image\n",
        "plt.imshow(random_image)\n",
        "plt.title(\"Random Colored Image\")\n",
        "plt.axis('off')\n",
        "plt.show()"
      ],
      "metadata": {
        "colab": {
          "base_uri": "https://localhost:8080/",
          "height": 1000
        },
        "id": "T6t0MbL53HHX",
        "outputId": "43cbd9ad-78fc-4b02-c4f9-a0bcf943394c"
      },
      "execution_count": null,
      "outputs": [
        {
          "output_type": "stream",
          "name": "stdout",
          "text": [
            "Matrix representing random image:\n",
            "[[[ 75 182 238  78]\n",
            "  [ 71   9  69 158]\n",
            "  [205 228 133 125]\n",
            "  ...\n",
            "  [ 56 207  33  90]\n",
            "  [101  43 246 231]\n",
            "  [ 14  84 123  83]]\n",
            "\n",
            " [[162  83   1 127]\n",
            "  [213  11  28 177]\n",
            "  [101  61 213  82]\n",
            "  ...\n",
            "  [ 26  85  74 238]\n",
            "  [  1 253 129  57]\n",
            "  [164  98 138 133]]\n",
            "\n",
            " [[223  88 202  43]\n",
            "  [165  61  69  56]\n",
            "  [ 71  74 150 253]\n",
            "  ...\n",
            "  [ 51 138  45 113]\n",
            "  [157 176 185  82]\n",
            "  [186  66 245 202]]\n",
            "\n",
            " ...\n",
            "\n",
            " [[  0 186 220 235]\n",
            "  [202 102 215 148]\n",
            "  [220 254 166  26]\n",
            "  ...\n",
            "  [212 178  24  16]\n",
            "  [ 14 176  62   8]\n",
            "  [ 45 170 244 131]]\n",
            "\n",
            " [[250 236 197 183]\n",
            "  [162 137 143 132]\n",
            "  [ 59 106 148  51]\n",
            "  ...\n",
            "  [134 187 166  66]\n",
            "  [ 68  84 170 251]\n",
            "  [200 245 221  13]]\n",
            "\n",
            " [[ 73 110 161 242]\n",
            "  [ 53 186 148 177]\n",
            "  [166 139 121 239]\n",
            "  ...\n",
            "  [221 217 206  79]\n",
            "  [176   0 245  76]\n",
            "  [168 172   5 202]]]\n"
          ]
        },
        {
          "output_type": "display_data",
          "data": {
            "text/plain": [
              "<Figure size 640x480 with 1 Axes>"
            ],
            "image/png": "[encoded data removed]"
          },
          "metadata": {}
        }
      ]
    },
    {
      "cell_type": "code",
      "source": [
        "# 3d array\n",
        "my_array3=np.array([[[2,4,5,6],[3,5,8,9]],[[4,8,7,6],[3,5,7,9]]])\n",
        "print(my_array3)"
      ],
      "metadata": {
        "colab": {
          "base_uri": "https://localhost:8080/"
        },
        "id": "hHZ-heOb5KrK",
        "outputId": "df8f842a-4916-49e6-ed0b-cbd1e84b5ef8"
      },
      "execution_count": null,
      "outputs": [
        {
          "output_type": "stream",
          "name": "stdout",
          "text": [
            "[[[2 4 5 6]\n",
            "  [3 5 8 9]]\n",
            "\n",
            " [[4 8 7 6]\n",
            "  [3 5 7 9]]]\n"
          ]
        }
      ]
    },
    {
      "cell_type": "code",
      "source": [
        "my_array3.shape"
      ],
      "metadata": {
        "id": "367yUxor96Kn",
        "outputId": "6c1d9694-22b5-4273-9006-0415546a0d27",
        "colab": {
          "base_uri": "https://localhost:8080/"
        }
      },
      "execution_count": null,
      "outputs": [
        {
          "output_type": "execute_result",
          "data": {
            "text/plain": [
              "(2, 2, 4)"
            ]
          },
          "metadata": {},
          "execution_count": 21
        }
      ]
    },
    {
      "cell_type": "code",
      "source": [
        "image=np.random.randint(2,45,(20,20,4),dtype=np.uint8)\n",
        "plt.imshow(image)\n",
        "plt.title(\"Image 2\")\n",
        "plt.axis('off')\n",
        "plt.show()"
      ],
      "metadata": {
        "id": "rFKOVFyF99e1",
        "colab": {
          "base_uri": "https://localhost:8080/",
          "height": 428
        },
        "outputId": "9d7dab83-393e-4e54-e952-e809f300d7b5"
      },
      "execution_count": null,
      "outputs": [
        {
          "output_type": "display_data",
          "data": {
            "text/plain": [
              "<Figure size 640x480 with 1 Axes>"
            ],
            "image/png": "[encoded data removed]"
          },
          "metadata": {}
        }
      ]
    },
    {
      "cell_type": "code",
      "source": [
        "image=np.random.randint(2,105,(10,20,4),dtype=np.uint8)\n",
        "print(image)\n",
        "plt.imshow(image)\n",
        "plt.title(\"Image 2\")\n",
        "plt.axis('off')\n",
        "plt.show()"
      ],
      "metadata": {
        "colab": {
          "base_uri": "https://localhost:8080/",
          "height": 1000
        },
        "id": "za1XXy4JhF7g",
        "outputId": "ebcc10f2-1484-40e5-8ea0-462d74ed96ca"
      },
      "execution_count": null,
      "outputs": [
        {
          "output_type": "stream",
          "name": "stdout",
          "text": [
            "[[[ 31  75  14  75]\n",
            "  [ 32  82  81  68]\n",
            "  [ 51  40   5  38]\n",
            "  [ 99  32 101  90]\n",
            "  [ 30  42  33  41]\n",
            "  [ 48  44  53  15]\n",
            "  [ 50  50  38  31]\n",
            "  [ 63  39  80  99]\n",
            "  [ 37  91  58  56]\n",
            "  [ 50  45 100  77]\n",
            "  [ 13  21  38  74]\n",
            "  [ 68  33   7  78]\n",
            "  [ 66  26  27  68]\n",
            "  [ 17  48   9  70]\n",
            "  [100   2  82  33]\n",
            "  [ 60  99  73  36]\n",
            "  [ 51  49  77  95]\n",
            "  [ 69  18  48  33]\n",
            "  [ 38  80  33  43]\n",
            "  [  4  44  27  93]]\n",
            "\n",
            " [[ 30  28  78  74]\n",
            "  [ 88   7  13  13]\n",
            "  [101  13  25  49]\n",
            "  [ 55  50  49  59]\n",
            "  [ 15  98  16  29]\n",
            "  [ 84  88  16  61]\n",
            "  [ 77  10  42 100]\n",
            "  [ 52  12  72   3]\n",
            "  [ 87  66  80  20]\n",
            "  [ 94  74  70  58]\n",
            "  [ 87 103  82  14]\n",
            "  [ 33  20  17  74]\n",
            "  [ 58   7   3  21]\n",
            "  [ 42  85  64  97]\n",
            "  [ 98  81  61  26]\n",
            "  [104  53  94  83]\n",
            "  [ 27  13  58  45]\n",
            "  [ 20  61  71  96]\n",
            "  [ 47  61   3  72]\n",
            "  [ 18  35 102  83]]\n",
            "\n",
            " [[ 11   2  57  56]\n",
            "  [ 97 103  26  78]\n",
            "  [ 21  23   6  98]\n",
            "  [  5  49  85  35]\n",
            "  [ 92  28  59  76]\n",
            "  [ 35  73  42  10]\n",
            "  [ 74  54  85  35]\n",
            "  [ 37  21   4  73]\n",
            "  [  9  73  99  75]\n",
            "  [ 26  43  46   3]\n",
            "  [ 11  79 102  92]\n",
            "  [ 44  12  87  44]\n",
            "  [ 31  91  78   4]\n",
            "  [ 61  50 102   8]\n",
            "  [  8  73  13  69]\n",
            "  [ 36  59  19  78]\n",
            "  [  7  86  96  63]\n",
            "  [ 77  65  82  83]\n",
            "  [ 17  54  70  62]\n",
            "  [ 68  51  95  49]]\n",
            "\n",
            " [[ 11  72  55  64]\n",
            "  [ 51  41  69  13]\n",
            "  [ 75  59  89 102]\n",
            "  [ 14  12 101  21]\n",
            "  [  5  27  29   9]\n",
            "  [ 23  83  14  27]\n",
            "  [ 25  58  80  79]\n",
            "  [ 74   5   3  63]\n",
            "  [ 35  54  27  50]\n",
            "  [102  77  12  66]\n",
            "  [ 67  16  20  98]\n",
            "  [ 11  57  73  14]\n",
            "  [ 98  51  23  37]\n",
            "  [ 12  56 101  48]\n",
            "  [ 22  15  27  25]\n",
            "  [ 71  89  73  59]\n",
            "  [ 68  91  71  54]\n",
            "  [ 77  43  64  24]\n",
            "  [  7  91  85  14]\n",
            "  [  4  12  57  12]]\n",
            "\n",
            " [[ 73  65  40  87]\n",
            "  [ 49  90  84  30]\n",
            "  [ 26  97 103  23]\n",
            "  [ 68  91  64  84]\n",
            "  [ 74  13  82  24]\n",
            "  [ 28  24  31   4]\n",
            "  [ 46  30  57  11]\n",
            "  [ 12  15  22  42]\n",
            "  [ 53  30  40  16]\n",
            "  [ 18  18  42   8]\n",
            "  [ 92  90  61  77]\n",
            "  [ 51  83  59  32]\n",
            "  [ 17  57  31  50]\n",
            "  [ 14  21  38  32]\n",
            "  [ 79  71  84  61]\n",
            "  [ 92  90  38  42]\n",
            "  [ 82  41   3  63]\n",
            "  [ 78  55  66  10]\n",
            "  [ 29  76  96  51]\n",
            "  [100  35  79  68]]\n",
            "\n",
            " [[ 24   2  83  73]\n",
            "  [ 55  97  11  37]\n",
            "  [ 11  96  11 103]\n",
            "  [ 72  59   9   3]\n",
            "  [ 40  57  41  45]\n",
            "  [ 91  43  27  94]\n",
            "  [ 60  40 101 104]\n",
            "  [ 40  62  94  33]\n",
            "  [ 97  26  75  94]\n",
            "  [ 94  49  45  10]\n",
            "  [ 65  46  87  76]\n",
            "  [ 62  93  77  45]\n",
            "  [ 67  21  70 100]\n",
            "  [ 51   3  89  62]\n",
            "  [ 45  22  26  26]\n",
            "  [ 44  18  57   8]\n",
            "  [ 91   8  45  44]\n",
            "  [104  12  50  36]\n",
            "  [ 64 104  60  64]\n",
            "  [100  78  74  34]]\n",
            "\n",
            " [[  3  28 104  62]\n",
            "  [ 17  37  80  14]\n",
            "  [ 73  35  12   2]\n",
            "  [ 70  88  94  23]\n",
            "  [ 42  76  59  88]\n",
            "  [ 41  72   4   6]\n",
            "  [  5  85   7  52]\n",
            "  [ 68  64  32  97]\n",
            "  [ 76  12  69  60]\n",
            "  [ 15  61  87   7]\n",
            "  [ 31  29  94   6]\n",
            "  [ 84  20   4  69]\n",
            "  [104  37  10  86]\n",
            "  [ 75  30  58  36]\n",
            "  [ 92  58  21  72]\n",
            "  [ 83  74 104  19]\n",
            "  [104  56  76  55]\n",
            "  [ 83  33  41  86]\n",
            "  [ 99  98  34   8]\n",
            "  [ 49  75  40  54]]\n",
            "\n",
            " [[ 91   6  80  96]\n",
            "  [ 57  61  47  26]\n",
            "  [ 11  68  10  27]\n",
            "  [ 41  68 103  61]\n",
            "  [ 55   9   8  45]\n",
            "  [ 26  37  91  65]\n",
            "  [ 67  95  78  96]\n",
            "  [ 55  54  34  99]\n",
            "  [ 61 102  29  64]\n",
            "  [ 23  47  99  78]\n",
            "  [ 23  54  10  73]\n",
            "  [ 86  64  73  77]\n",
            "  [ 98  37  84  54]\n",
            "  [ 86  47  16 102]\n",
            "  [ 59  46  88  36]\n",
            "  [ 83  16  55 104]\n",
            "  [ 60  52  45  14]\n",
            "  [ 50  69  19  27]\n",
            "  [ 45  35  80  92]\n",
            "  [  2  53  99  34]]\n",
            "\n",
            " [[ 68  67  93  13]\n",
            "  [ 72  60  54  95]\n",
            "  [ 26  51 100  15]\n",
            "  [ 47  89  48  58]\n",
            "  [ 72  40 102  12]\n",
            "  [ 62  58  57  65]\n",
            "  [ 24  58   7  67]\n",
            "  [ 27  25  90  79]\n",
            "  [ 68  73  47   3]\n",
            "  [ 45  20  58  72]\n",
            "  [ 95  28 100  54]\n",
            "  [ 18   5  67  34]\n",
            "  [ 92  95  37  72]\n",
            "  [ 98  64  99  26]\n",
            "  [  4  22  21  55]\n",
            "  [ 61  20  36  19]\n",
            "  [ 87  37  22  61]\n",
            "  [ 30  33  22  49]\n",
            "  [ 48  23  59  99]\n",
            "  [ 45  49   7   9]]\n",
            "\n",
            " [[ 28  65  99  73]\n",
            "  [ 94   5  73  73]\n",
            "  [ 77  88  12   6]\n",
            "  [ 53  21  43  16]\n",
            "  [103  17   8  46]\n",
            "  [ 83  66  67  84]\n",
            "  [ 52  26  34  24]\n",
            "  [ 83  81  56  73]\n",
            "  [ 68  82  99 102]\n",
            "  [ 96  62  20  74]\n",
            "  [ 82  69  46  28]\n",
            "  [ 25  24  44  56]\n",
            "  [ 19  99  26  20]\n",
            "  [ 23  27  11  49]\n",
            "  [ 20  69  90  95]\n",
            "  [ 94  51  66  87]\n",
            "  [ 96  57  34  91]\n",
            "  [ 81   9  56  71]\n",
            "  [ 97  77  84  51]\n",
            "  [ 83  14  75  23]]]\n"
          ]
        },
        {
          "output_type": "display_data",
          "data": {
            "text/plain": [
              "<Figure size 640x480 with 1 Axes>"
            ],
            "image/png": "[encoded data removed]"
          },
          "metadata": {}
        }
      ]
    },
    {
      "cell_type": "code",
      "source": [
        "image3=np.random.randint(45,256,(30,40,3),dtype=np.uint8)\n",
        "plt.imshow(image3)\n",
        "plt.title(\"Image 3\")\n",
        "plt.axis('off')\n",
        "plt.show()"
      ],
      "metadata": {
        "colab": {
          "base_uri": "https://localhost:8080/",
          "height": 428
        },
        "id": "iFRLLXF9iAqs",
        "outputId": "256d04b0-02f1-4ce8-df9d-5e85bc89d444"
      },
      "execution_count": null,
      "outputs": [
        {
          "output_type": "display_data",
          "data": {
            "text/plain": [
              "<Figure size 640x480 with 1 Axes>"
            ],
            "image/png": "[encoded data removed]"
          },
          "metadata": {}
        }
      ]
    },
    {
      "cell_type": "code",
      "source": [
        "array1=np.array([[1,2,3,4],[4,5,7,8]])\n",
        "print(array1.shape)"
      ],
      "metadata": {
        "colab": {
          "base_uri": "https://localhost:8080/"
        },
        "id": "x7HEoEshmwxg",
        "outputId": "2ffdc759-2bd1-445d-a8f5-8975799db04c"
      },
      "execution_count": null,
      "outputs": [
        {
          "output_type": "stream",
          "name": "stdout",
          "text": [
            "(2, 4)\n"
          ]
        }
      ]
    },
    {
      "cell_type": "code",
      "source": [
        "array1.ndim"
      ],
      "metadata": {
        "colab": {
          "base_uri": "https://localhost:8080/"
        },
        "id": "5TChxwgYngHq",
        "outputId": "a7807faa-71ca-4255-d477-81a1a062c9a7"
      },
      "execution_count": null,
      "outputs": [
        {
          "output_type": "execute_result",
          "data": {
            "text/plain": [
              "2"
            ]
          },
          "metadata": {},
          "execution_count": 16
        }
      ]
    },
    {
      "cell_type": "code",
      "source": [
        "array2=np.array([[[2,3,4,5],[4,5,6,7]],[[2,3,4,5],[6,7,8,9]],[[2,3,4,5],[6,7,8,9]]])\n",
        "print(array2)"
      ],
      "metadata": {
        "colab": {
          "base_uri": "https://localhost:8080/"
        },
        "id": "sBktd7XUnyaZ",
        "outputId": "a1c5fa6c-e12a-42ec-f9a3-398f6f8e824a"
      },
      "execution_count": null,
      "outputs": [
        {
          "output_type": "stream",
          "name": "stdout",
          "text": [
            "[[[2 3 4 5]\n",
            "  [4 5 6 7]]\n",
            "\n",
            " [[2 3 4 5]\n",
            "  [6 7 8 9]]\n",
            "\n",
            " [[2 3 4 5]\n",
            "  [6 7 8 9]]]\n"
          ]
        }
      ]
    },
    {
      "cell_type": "code",
      "source": [
        "print(array2.shape)"
      ],
      "metadata": {
        "colab": {
          "base_uri": "https://localhost:8080/"
        },
        "id": "gwGGfWS1ZTbX",
        "outputId": "bcab4f44-8bef-4b36-e855-3071b0464442"
      },
      "execution_count": null,
      "outputs": [
        {
          "output_type": "stream",
          "name": "stdout",
          "text": [
            "(3, 2, 4)\n"
          ]
        }
      ]
    },
    {
      "cell_type": "code",
      "source": [
        "array2.ndim"
      ],
      "metadata": {
        "colab": {
          "base_uri": "https://localhost:8080/"
        },
        "id": "IxU4-AFpaOE0",
        "outputId": "d6d573de-1081-4012-c078-9fb7ed58a54a"
      },
      "execution_count": null,
      "outputs": [
        {
          "output_type": "execute_result",
          "data": {
            "text/plain": [
              "3"
            ]
          },
          "metadata": {},
          "execution_count": 7
        }
      ]
    },
    {
      "cell_type": "code",
      "source": [
        "array2.size"
      ],
      "metadata": {
        "colab": {
          "base_uri": "https://localhost:8080/"
        },
        "id": "S8zt6xPsaVv5",
        "outputId": "c003d38a-f0e8-40b9-a549-7e10e3a2d09c"
      },
      "execution_count": null,
      "outputs": [
        {
          "output_type": "execute_result",
          "data": {
            "text/plain": [
              "24"
            ]
          },
          "metadata": {},
          "execution_count": 8
        }
      ]
    },
    {
      "cell_type": "code",
      "source": [
        "array2.dtype"
      ],
      "metadata": {
        "colab": {
          "base_uri": "https://localhost:8080/"
        },
        "id": "b3PeowVDaa85",
        "outputId": "42d6342b-924d-42f4-b34c-4247c0f9c08a"
      },
      "execution_count": null,
      "outputs": [
        {
          "output_type": "execute_result",
          "data": {
            "text/plain": [
              "dtype('int64')"
            ]
          },
          "metadata": {},
          "execution_count": 9
        }
      ]
    },
    {
      "cell_type": "code",
      "source": [
        "array2=array2.astype('float64')\n",
        "print(array2.dtype)"
      ],
      "metadata": {
        "colab": {
          "base_uri": "https://localhost:8080/"
        },
        "id": "xDv0Kynuaeth",
        "outputId": "c807c49a-b679-49a7-9cec-56f7a4a0f96b"
      },
      "execution_count": null,
      "outputs": [
        {
          "output_type": "stream",
          "name": "stdout",
          "text": [
            "float64\n"
          ]
        }
      ]
    },
    {
      "cell_type": "code",
      "source": [
        "# Memory\n",
        "import numpy as np\n",
        "import sys\n",
        "a=[2,4,6,8,10]\n",
        "print(f\"Size of eah elements in bytes:{sys.getsizeof(a)}\")\n",
        "print(f\"Size of the whole list in bytes:{sys.getsizeof(a)*len(a)}\")\n",
        "b=np.array([2,4,6,8,10])\n",
        "print(f\"Size of each element of the Numpy array in bytes:{b.itemsize}\")\n",
        "print(f\"Size of the whole Numpy array in bytes:{b.size*b.itemsize}\")"
      ],
      "metadata": {
        "id": "DNOAVxFsay4T",
        "colab": {
          "base_uri": "https://localhost:8080/"
        },
        "outputId": "1ce6c2bb-cf2f-4840-85ed-ba93c7ec6f7a"
      },
      "execution_count": null,
      "outputs": [
        {
          "output_type": "stream",
          "name": "stdout",
          "text": [
            "Size of eah elements in bytes:104\n",
            "Size of the whole list in bytes:520\n",
            "Size of each element of the Numpy array in bytes:8\n",
            "Size of the whole Numpy array in bytes:40\n"
          ]
        }
      ]
    },
    {
      "cell_type": "code",
      "source": [
        "520/40"
      ],
      "metadata": {
        "colab": {
          "base_uri": "https://localhost:8080/"
        },
        "id": "6Gk1Zo-AM0JI",
        "outputId": "6d7cf296-ab86-4838-d4a1-f2c32347f343"
      },
      "execution_count": null,
      "outputs": [
        {
          "output_type": "execute_result",
          "data": {
            "text/plain": [
              "13.0"
            ]
          },
          "metadata": {},
          "execution_count": 3
        }
      ]
    },
    {
      "cell_type": "code",
      "source": [
        "# Performance\n",
        "[(a*b) for a,b in zip([2,3,4],[7,8,9])]"
      ],
      "metadata": {
        "id": "f5TUlRsVM5xV",
        "colab": {
          "base_uri": "https://localhost:8080/"
        },
        "outputId": "b45dda53-591b-4494-b12a-79d0ba56650e"
      },
      "execution_count": null,
      "outputs": [
        {
          "output_type": "execute_result",
          "data": {
            "text/plain": [
              "[14, 24, 36]"
            ]
          },
          "metadata": {},
          "execution_count": 1
        }
      ]
    },
    {
      "cell_type": "code",
      "source": [
        "import numpy as np\n",
        "import time\n",
        "size=100000\n",
        "list1=range(size)\n",
        "list2=range(size)\n",
        "array1=np.arange(size)\n",
        "array2=np.arange(size)\n",
        "# Time before multilplication of python lists\n",
        "initial_time=time.time()\n",
        "resultantList=[(a*b) for a,b in zip(list1,list2)]\n",
        "print(f\"Time taken by lists to perform multiplication:{(time.time()-initial_time)*1000} milliseconds\")\n",
        "# Time before multiplication of numpy arrays\n",
        "initial_time=time.time()\n",
        "resultant_array=array1*array2\n",
        "print(f\"Time taken by numpy arrays to perform multiplication:{(time.time()-initial_time)*1000} milliseconds\")"
      ],
      "metadata": {
        "colab": {
          "base_uri": "https://localhost:8080/"
        },
        "id": "Xq6L98KY7CVd",
        "outputId": "7a4c4edf-9a06-4382-99f7-e7c499d546fb"
      },
      "execution_count": null,
      "outputs": [
        {
          "output_type": "stream",
          "name": "stdout",
          "text": [
            "Time taken by lists to perform multiplication:14.691352844238281 milliseconds\n",
            "Time taken by numpy arrays to perform multiplication:0.5724430084228516 milliseconds\n"
          ]
        }
      ]
    },
    {
      "cell_type": "code",
      "source": [
        "# Functionality\n",
        "import numpy as np\n",
        "list1=[2,4,6,8,10]\n",
        "arr=np.array(list1)\n",
        "try:\n",
        "  list1=list1+4\n",
        "except(TypeError):\n",
        "  print(\"Lists don't support list + int\")\n",
        "try:\n",
        "  arr=arr+4\n",
        "  print(f\"Modified Numpy array:{arr}\")\n",
        "except:\n",
        "  print(\"Numpy arrays don't support list + int\")"
      ],
      "metadata": {
        "id": "9vdPjMDZ9iGP",
        "colab": {
          "base_uri": "https://localhost:8080/"
        },
        "outputId": "472fe3a0-b2a1-4970-9571-6c65b730eb63"
      },
      "execution_count": null,
      "outputs": [
        {
          "output_type": "stream",
          "name": "stdout",
          "text": [
            "Lists don't support list + int\n",
            "Modified Numpy array:[ 6  8 10 12 14]\n"
          ]
        }
      ]
    },
    {
      "cell_type": "code",
      "source": [
        "# Different ways of creating an ndarray\n",
        "# Uninitialized\n",
        "unin_arr=np.empty([2,3],dtype=int)\n",
        "print(unin_arr)"
      ],
      "metadata": {
        "colab": {
          "base_uri": "https://localhost:8080/"
        },
        "id": "lRBKFaKLczsc",
        "outputId": "f17cdc88-180a-4e8c-a951-fff1b97e5194"
      },
      "execution_count": null,
      "outputs": [
        {
          "output_type": "stream",
          "name": "stdout",
          "text": [
            "[[    47769646            0 416611827815]\n",
            " [137438953580 433791697011 459561500773]]\n"
          ]
        }
      ]
    },
    {
      "cell_type": "code",
      "source": [
        "# Initialized with zeros\n",
        "zeros_arr=np.zeros([4,5],dtype=int)\n",
        "zeros_arr1=np.zeros([4,5])\n",
        "print(zeros_arr)\n",
        "print(zeros_arr1)"
      ],
      "metadata": {
        "colab": {
          "base_uri": "https://localhost:8080/"
        },
        "id": "VdsNZ7nLdSSA",
        "outputId": "b7b6549b-36cc-4137-9e21-1280f133fd18"
      },
      "execution_count": null,
      "outputs": [
        {
          "output_type": "stream",
          "name": "stdout",
          "text": [
            "[[0 0 0 0 0]\n",
            " [0 0 0 0 0]\n",
            " [0 0 0 0 0]\n",
            " [0 0 0 0 0]]\n",
            "[[0. 0. 0. 0. 0.]\n",
            " [0. 0. 0. 0. 0.]\n",
            " [0. 0. 0. 0. 0.]\n",
            " [0. 0. 0. 0. 0.]]\n"
          ]
        }
      ]
    },
    {
      "cell_type": "code",
      "source": [
        "# Initialized with ones\n",
        "ones_arr=np.ones([2,4]*2,dtype=int)\n",
        "print(ones_arr)"
      ],
      "metadata": {
        "colab": {
          "base_uri": "https://localhost:8080/"
        },
        "id": "yal8K9s1lOKF",
        "outputId": "b711690c-d278-416b-c06c-4fee2003a5f6"
      },
      "execution_count": null,
      "outputs": [
        {
          "output_type": "stream",
          "name": "stdout",
          "text": [
            "[[[[1 1 1 1]\n",
            "   [1 1 1 1]]\n",
            "\n",
            "  [[1 1 1 1]\n",
            "   [1 1 1 1]]\n",
            "\n",
            "  [[1 1 1 1]\n",
            "   [1 1 1 1]]\n",
            "\n",
            "  [[1 1 1 1]\n",
            "   [1 1 1 1]]]\n",
            "\n",
            "\n",
            " [[[1 1 1 1]\n",
            "   [1 1 1 1]]\n",
            "\n",
            "  [[1 1 1 1]\n",
            "   [1 1 1 1]]\n",
            "\n",
            "  [[1 1 1 1]\n",
            "   [1 1 1 1]]\n",
            "\n",
            "  [[1 1 1 1]\n",
            "   [1 1 1 1]]]]\n"
          ]
        }
      ]
    },
    {
      "cell_type": "code",
      "source": [
        "# Array from numerical ranges\n",
        "array_with_range=np.arange(7)\n",
        "print(array_with_range)"
      ],
      "metadata": {
        "colab": {
          "base_uri": "https://localhost:8080/"
        },
        "id": "W_vPoo6Nl9DD",
        "outputId": "386ab90c-2038-42ba-fb0a-9018584abb1a"
      },
      "execution_count": null,
      "outputs": [
        {
          "output_type": "stream",
          "name": "stdout",
          "text": [
            "[0 1 2 3 4 5 6]\n"
          ]
        }
      ]
    },
    {
      "cell_type": "code",
      "source": [
        "linearly_spaced_values=np.linspace(5,10,5,endpoint=False,retstep=True)\n",
        "print(linearly_spaced_values)"
      ],
      "metadata": {
        "colab": {
          "base_uri": "https://localhost:8080/"
        },
        "id": "pbemtH4Zm3rM",
        "outputId": "04dfc8ca-3d42-4ae2-ab87-c5bc2253cbf0"
      },
      "execution_count": null,
      "outputs": [
        {
          "output_type": "stream",
          "name": "stdout",
          "text": [
            "(array([5., 6., 7., 8., 9.]), 1.0)\n"
          ]
        }
      ]
    },
    {
      "cell_type": "code",
      "source": [
        "# Array from random numbers\n",
        "random_array=np.random.normal(2,4,[3,5])\n",
        "print(random_array)"
      ],
      "metadata": {
        "colab": {
          "base_uri": "https://localhost:8080/"
        },
        "id": "CscWaj2d2gPR",
        "outputId": "2d08f518-1bea-440f-a19a-b0aae46e03df"
      },
      "execution_count": null,
      "outputs": [
        {
          "output_type": "stream",
          "name": "stdout",
          "text": [
            "[[ 2.44270522  0.74537769 -5.04043239 10.85861846 -1.74503262]\n",
            " [-0.85506526 -2.81038699 -5.9772846   1.8031097   4.06615632]\n",
            " [ 1.35736872  8.87351509 -1.42055447  6.87397654  0.63999408]]\n"
          ]
        }
      ]
    },
    {
      "cell_type": "code",
      "source": [
        "random_integral_array=np.random.randint(10,20,size=(2,4))\n",
        "print(random_integral_array)"
      ],
      "metadata": {
        "colab": {
          "base_uri": "https://localhost:8080/"
        },
        "id": "mdFiirln3V7D",
        "outputId": "e1f323bf-8d97-4e04-a329-f1c0319704f2"
      },
      "execution_count": null,
      "outputs": [
        {
          "output_type": "stream",
          "name": "stdout",
          "text": [
            "[[10 13 13 17]\n",
            " [12 12 18 18]]\n"
          ]
        }
      ]
    },
    {
      "cell_type": "code",
      "source": [
        "# Array from specified numbers\n",
        "arr=np.full((2,3),20)\n",
        "print(arr)"
      ],
      "metadata": {
        "colab": {
          "base_uri": "https://localhost:8080/"
        },
        "id": "_lQMnd1P3n9p",
        "outputId": "c6f60ef9-f780-407e-bff4-d2997b25842a"
      },
      "execution_count": null,
      "outputs": [
        {
          "output_type": "stream",
          "name": "stdout",
          "text": [
            "[[20 20 20]\n",
            " [20 20 20]]\n"
          ]
        }
      ]
    },
    {
      "cell_type": "code",
      "source": [
        "arr1=np.ones((2,3),dtype=int)*20\n",
        "print(arr1)"
      ],
      "metadata": {
        "colab": {
          "base_uri": "https://localhost:8080/"
        },
        "id": "UXPzXikr4Ds9",
        "outputId": "a5f0a2c5-2624-416d-d55f-1ef337a7226b"
      },
      "execution_count": null,
      "outputs": [
        {
          "output_type": "stream",
          "name": "stdout",
          "text": [
            "[[20 20 20]\n",
            " [20 20 20]]\n"
          ]
        }
      ]
    },
    {
      "cell_type": "code",
      "source": [
        "arr2=np.identity(4,dtype=int)\n",
        "print(arr2)"
      ],
      "metadata": {
        "colab": {
          "base_uri": "https://localhost:8080/"
        },
        "id": "cpxb8sy-4UTr",
        "outputId": "6cdd908f-8c13-402a-e8c7-66681f0d318e"
      },
      "execution_count": null,
      "outputs": [
        {
          "output_type": "stream",
          "name": "stdout",
          "text": [
            "[[1 0 0 0]\n",
            " [0 1 0 0]\n",
            " [0 0 1 0]\n",
            " [0 0 0 1]]\n"
          ]
        }
      ]
    },
    {
      "cell_type": "code",
      "source": [
        "# Creating ndarray with existing data\n",
        "list1=[2,4,8]\n",
        "my_arr=np.asarray(list1)\n",
        "my_arr"
      ],
      "metadata": {
        "colab": {
          "base_uri": "https://localhost:8080/"
        },
        "id": "wi_m5NJF4bOk",
        "outputId": "73305db9-5360-44ec-8a1e-1e321f9e983e"
      },
      "execution_count": null,
      "outputs": [
        {
          "output_type": "execute_result",
          "data": {
            "text/plain": [
              "array([2, 4, 8])"
            ]
          },
          "metadata": {},
          "execution_count": 27
        }
      ]
    },
    {
      "cell_type": "code",
      "source": [
        "tuple1=(2,4,8)\n",
        "my_arr1=np.asarray(tuple1)\n",
        "my_arr1"
      ],
      "metadata": {
        "colab": {
          "base_uri": "https://localhost:8080/"
        },
        "id": "BJxBwAxa5gTe",
        "outputId": "5853199f-498c-48c1-d919-fb0fb8d2dd45"
      },
      "execution_count": null,
      "outputs": [
        {
          "output_type": "execute_result",
          "data": {
            "text/plain": [
              "array([2, 4, 8])"
            ]
          },
          "metadata": {},
          "execution_count": 30
        }
      ]
    },
    {
      "cell_type": "code",
      "source": [
        "# Indexing and Slicing arrays\n",
        "# Slicing 1d arrays\n",
        "arr=np.arange(20)\n",
        "print(arr)"
      ],
      "metadata": {
        "colab": {
          "base_uri": "https://localhost:8080/"
        },
        "id": "WL9QnSuo5rJZ",
        "outputId": "f4f3664a-b0af-44e3-e6c8-13b54099407a"
      },
      "execution_count": null,
      "outputs": [
        {
          "output_type": "stream",
          "name": "stdout",
          "text": [
            "[ 0  1  2  3  4  5  6  7  8  9 10 11 12 13 14 15 16 17 18 19]\n"
          ]
        }
      ]
    },
    {
      "cell_type": "code",
      "source": [
        "arr[4:10]"
      ],
      "metadata": {
        "colab": {
          "base_uri": "https://localhost:8080/"
        },
        "id": "6zGs3fEg70ie",
        "outputId": "bf7e4569-6ca0-4c8f-ad14-a535d966000f"
      },
      "execution_count": null,
      "outputs": [
        {
          "output_type": "execute_result",
          "data": {
            "text/plain": [
              "array([4, 5, 6, 7, 8, 9])"
            ]
          },
          "metadata": {},
          "execution_count": 33
        }
      ]
    },
    {
      "cell_type": "code",
      "source": [
        "print(arr[:6:3])\n",
        "print(arr[2::8])\n",
        "print(arr[2:7:])"
      ],
      "metadata": {
        "colab": {
          "base_uri": "https://localhost:8080/"
        },
        "id": "nZ5M0TEK75kX",
        "outputId": "76f74a02-44dc-4ee2-8e24-e36950d115d0"
      },
      "execution_count": null,
      "outputs": [
        {
          "output_type": "stream",
          "name": "stdout",
          "text": [
            "[0 3]\n",
            "[ 2 10 18]\n",
            "[2 3 4 5 6]\n"
          ]
        }
      ]
    },
    {
      "cell_type": "code",
      "source": [
        "# Slicing 2d arrays\n",
        "arr2=np.array([[2,4,6],[1,5,7]])\n",
        "print(arr2[0:2])"
      ],
      "metadata": {
        "colab": {
          "base_uri": "https://localhost:8080/"
        },
        "id": "enWB_L_u_4qR",
        "outputId": "15528af0-2b46-41be-fe25-c63b6741df39"
      },
      "execution_count": null,
      "outputs": [
        {
          "output_type": "stream",
          "name": "stdout",
          "text": [
            "[[2 4 6]\n",
            " [1 5 7]]\n"
          ]
        }
      ]
    },
    {
      "cell_type": "code",
      "source": [
        "arr3=np.array([[1,2,3],[4,5,6],[7,8,9]])\n",
        "print(arr3)\n",
        "print(arr3[1:,0:1])"
      ],
      "metadata": {
        "colab": {
          "base_uri": "https://localhost:8080/"
        },
        "id": "wOsWg0YsAXgE",
        "outputId": "e5625f96-2077-45be-d352-889abc638b52"
      },
      "execution_count": null,
      "outputs": [
        {
          "output_type": "stream",
          "name": "stdout",
          "text": [
            "[[1 2 3]\n",
            " [4 5 6]\n",
            " [7 8 9]]\n",
            "[[4]\n",
            " [7]]\n"
          ]
        }
      ]
    },
    {
      "cell_type": "code",
      "source": [
        "# Slicing 3d arrays\n",
        "arr4=np.array([[[2,3,4],[4,5,6]],[[3,5,8],[7,4,9]],[[1,5,7],[3,5,9]]])\n",
        "print(arr4)\n",
        "print(arr4[0:2])\n",
        "print(arr4[1:2,1:,1:])"
      ],
      "metadata": {
        "colab": {
          "base_uri": "https://localhost:8080/"
        },
        "id": "GAC6e_DqBJFm",
        "outputId": "deafe49b-c829-44e3-e67a-20262969e45d"
      },
      "execution_count": null,
      "outputs": [
        {
          "output_type": "stream",
          "name": "stdout",
          "text": [
            "[[[2 3 4]\n",
            "  [4 5 6]]\n",
            "\n",
            " [[3 5 8]\n",
            "  [7 4 9]]\n",
            "\n",
            " [[1 5 7]\n",
            "  [3 5 9]]]\n",
            "[[[2 3 4]\n",
            "  [4 5 6]]\n",
            "\n",
            " [[3 5 8]\n",
            "  [7 4 9]]]\n",
            "[[[4 9]]]\n"
          ]
        }
      ]
    }
  ]
}