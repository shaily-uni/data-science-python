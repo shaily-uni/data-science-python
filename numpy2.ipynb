{
  "nbformat": 4,
  "nbformat_minor": 0,
  "metadata": {
    "colab": {
      "provenance": [],
      "authorship_tag": "ABX9TyPrfNpjLNr1AJeTQxlo5VBN",
      "include_colab_link": true
    },
    "kernelspec": {
      "name": "python3",
      "display_name": "Python 3"
    },
    "language_info": {
      "name": "python"
    }
  },
  "cells": [
    {
      "cell_type": "markdown",
      "metadata": {
        "id": "view-in-github",
        "colab_type": "text"
      },
      "source": [
        "<a href=\"https://colab.research.google.com/github/shaily-uni/data-science-python/blob/main/numpy2.ipynb\" target=\"_parent\"><img src=\"https://colab.research.google.com/assets/colab-badge.svg\" alt=\"Open In Colab\"/></a>"
      ]
    },
    {
      "cell_type": "code",
      "execution_count": null,
      "metadata": {
        "colab": {
          "base_uri": "https://localhost:8080/"
        },
        "id": "h2NblcLDbzEE",
        "outputId": "1e30156d-e95a-4a44-e6f9-5f5fcf1be989"
      },
      "outputs": [
        {
          "output_type": "stream",
          "name": "stdout",
          "text": [
            "[[40 34]\n",
            " [25 33]\n",
            " [21 33]\n",
            " [10 26]\n",
            " [13 16]\n",
            " [28 24]\n",
            " [26 10]\n",
            " [44 34]]\n",
            "(8, 2)\n"
          ]
        }
      ],
      "source": [
        "import numpy as np\n",
        "arravali=np.array(np.random.randint(10,45,(8,2)))\n",
        "print(arravali)\n",
        "print(arravali.shape)"
      ]
    },
    {
      "cell_type": "code",
      "source": [
        "import numpy as np\n",
        "arravali=np.array(np.random.randint(10,45,(8,2)))\n",
        "nilgiri=np.transpose(arravali)\n",
        "print(nilgiri)\n",
        "print(nilgiri.shape)"
      ],
      "metadata": {
        "id": "ehcZrsyUc7T4",
        "colab": {
          "base_uri": "https://localhost:8080/"
        },
        "outputId": "95d2658e-bbdd-4169-dca4-e59e0a9e8b48"
      },
      "execution_count": 6,
      "outputs": [
        {
          "output_type": "stream",
          "name": "stdout",
          "text": [
            "[[28 17 22 18 44 31 39 36]\n",
            " [42 25 22 39 25 26 13 21]]\n",
            "(2, 8)\n"
          ]
        }
      ]
    },
    {
      "cell_type": "code",
      "source": [
        "randomarray=np.array(np.random.randint(10,45,(3,2,4)))\n",
        "print(randomarray)\n",
        "print(randomarray.shape)"
      ],
      "metadata": {
        "colab": {
          "base_uri": "https://localhost:8080/"
        },
        "id": "SLR_4tnahzt0",
        "outputId": "2bb12b8d-63f1-44af-bf4f-a6f833809d57"
      },
      "execution_count": 7,
      "outputs": [
        {
          "output_type": "stream",
          "name": "stdout",
          "text": [
            "[[[34 40 14 41]\n",
            "  [26 13 16 11]]\n",
            "\n",
            " [[33 26 23 35]\n",
            "  [24 28 34 21]]\n",
            "\n",
            " [[15 38 30 42]\n",
            "  [17 14 12 14]]]\n",
            "(3, 2, 4)\n"
          ]
        }
      ]
    },
    {
      "cell_type": "code",
      "source": [
        "transposearray=np.transpose(randomarray)\n",
        "print(transposearray)\n",
        "print(transposearray.shape)"
      ],
      "metadata": {
        "colab": {
          "base_uri": "https://localhost:8080/"
        },
        "id": "v1F5g_yTiHpY",
        "outputId": "3a105156-1296-48f5-ad5f-cabaef80c2ca"
      },
      "execution_count": 8,
      "outputs": [
        {
          "output_type": "stream",
          "name": "stdout",
          "text": [
            "[[[34 33 15]\n",
            "  [26 24 17]]\n",
            "\n",
            " [[40 26 38]\n",
            "  [13 28 14]]\n",
            "\n",
            " [[14 23 30]\n",
            "  [16 34 12]]\n",
            "\n",
            " [[41 35 42]\n",
            "  [11 21 14]]]\n",
            "(4, 2, 3)\n"
          ]
        }
      ]
    },
    {
      "cell_type": "code",
      "source": [
        "random_cohort=np.array(np.random.randint(10,45,(3,8)))\n",
        "print(random_cohort)\n",
        "print(random_cohort.shape)\n"
      ],
      "metadata": {
        "colab": {
          "base_uri": "https://localhost:8080/"
        },
        "id": "k2Y_bdFNi76M",
        "outputId": "32289be5-4aa3-49d9-c5dd-6a9f4b647d87"
      },
      "execution_count": 9,
      "outputs": [
        {
          "output_type": "stream",
          "name": "stdout",
          "text": [
            "[[31 17 21 25 33 11 40 38]\n",
            " [20 14 23 26 42 36 42 10]\n",
            " [24 27 11 26 12 12 39 10]]\n",
            "(3, 8)\n"
          ]
        }
      ]
    },
    {
      "cell_type": "code",
      "source": [
        "new_shape=(2,6,2)\n",
        "reshaped_random_cohort=np.reshape(random_cohort,new_shape)\n",
        "print(reshaped_random_cohort)\n",
        "(random_cohort,new_shape)\n",
        "print(reshaped_random_cohort.shape)"
      ],
      "metadata": {
        "colab": {
          "base_uri": "https://localhost:8080/"
        },
        "id": "tMkN-tBDjb9P",
        "outputId": "44be94da-9f2f-4f25-f5d5-207bcf311891"
      },
      "execution_count": 11,
      "outputs": [
        {
          "output_type": "stream",
          "name": "stdout",
          "text": [
            "[[[31 17]\n",
            "  [21 25]\n",
            "  [33 11]\n",
            "  [40 38]\n",
            "  [20 14]\n",
            "  [23 26]]\n",
            "\n",
            " [[42 36]\n",
            "  [42 10]\n",
            "  [24 27]\n",
            "  [11 26]\n",
            "  [12 12]\n",
            "  [39 10]]]\n",
            "(2, 6, 2)\n"
          ]
        }
      ]
    },
    {
      "cell_type": "code",
      "source": [
        "random_3d_cohort=np.array(np.random.randint(10,45,(2,4,6)))\n",
        "print(random_3d_cohort)\n",
        "print(random_3d_cohort.shape)\n"
      ],
      "metadata": {
        "colab": {
          "base_uri": "https://localhost:8080/"
        },
        "id": "WBmEZm14kZ-J",
        "outputId": "3aa3c7f9-3e6f-4666-e238-1cec65463819"
      },
      "execution_count": 12,
      "outputs": [
        {
          "output_type": "stream",
          "name": "stdout",
          "text": [
            "[[[18 36 34 36 32 41]\n",
            "  [40 31 40 42 42 31]\n",
            "  [23 31 21 36 38 12]\n",
            "  [12 13 43 21 32 11]]\n",
            "\n",
            " [[15 10 36 39 29 39]\n",
            "  [35 43 15 38 26 23]\n",
            "  [39 20 17 19 29 10]\n",
            "  [23 18 13 17 26 37]]]\n",
            "(2, 4, 6)\n"
          ]
        }
      ]
    },
    {
      "cell_type": "code",
      "source": [
        "random_3d_cohort.flatten()"
      ],
      "metadata": {
        "colab": {
          "base_uri": "https://localhost:8080/"
        },
        "id": "cXQLqBMckzMh",
        "outputId": "f9b852ae-e8e2-4a69-be9b-fc63cc43a8c1"
      },
      "execution_count": 13,
      "outputs": [
        {
          "output_type": "execute_result",
          "data": {
            "text/plain": [
              "array([18, 36, 34, 36, 32, 41, 40, 31, 40, 42, 42, 31, 23, 31, 21, 36, 38,\n",
              "       12, 12, 13, 43, 21, 32, 11, 15, 10, 36, 39, 29, 39, 35, 43, 15, 38,\n",
              "       26, 23, 39, 20, 17, 19, 29, 10, 23, 18, 13, 17, 26, 37])"
            ]
          },
          "metadata": {},
          "execution_count": 13
        }
      ]
    },
    {
      "cell_type": "code",
      "source": [
        "import numpy as np\n",
        "a=np.random.randint(10,20,(2,3,4))\n",
        "print(a)\n",
        "print(a.shape)\n",
        "np.insert(a,1,100,axis=0)\n",
        "np.insert(a,0,50,axis=1)\n",
        "np.insert(a,0,200,axis=2)"
      ],
      "metadata": {
        "colab": {
          "base_uri": "https://localhost:8080/"
        },
        "id": "Pd2XxiF1k8ky",
        "outputId": "5bfa662c-bfe7-49fa-bfeb-0135a4183e7a"
      },
      "execution_count": 16,
      "outputs": [
        {
          "output_type": "stream",
          "name": "stdout",
          "text": [
            "[[[19 15 18 16]\n",
            "  [14 15 18 16]\n",
            "  [11 13 11 10]]\n",
            "\n",
            " [[10 15 14 17]\n",
            "  [19 14 15 10]\n",
            "  [16 11 10 14]]]\n",
            "(2, 3, 4)\n"
          ]
        },
        {
          "output_type": "execute_result",
          "data": {
            "text/plain": [
              "array([[[200,  19,  15,  18,  16],\n",
              "        [200,  14,  15,  18,  16],\n",
              "        [200,  11,  13,  11,  10]],\n",
              "\n",
              "       [[200,  10,  15,  14,  17],\n",
              "        [200,  19,  14,  15,  10],\n",
              "        [200,  16,  11,  10,  14]]])"
            ]
          },
          "metadata": {},
          "execution_count": 16
        }
      ]
    },
    {
      "cell_type": "code",
      "source": [
        "a=np.random.randint(2,6,(2,3,3))\n",
        "print(a)\n",
        "print(a.shape)"
      ],
      "metadata": {
        "colab": {
          "base_uri": "https://localhost:8080/"
        },
        "id": "wfLXypbYl9oN",
        "outputId": "d0fa4166-3523-4b23-8630-e3b9d7145f8f"
      },
      "execution_count": 17,
      "outputs": [
        {
          "output_type": "stream",
          "name": "stdout",
          "text": [
            "[[[2 3 5]\n",
            "  [3 3 4]\n",
            "  [2 5 5]]\n",
            "\n",
            " [[5 5 3]\n",
            "  [5 3 2]\n",
            "  [2 2 2]]]\n",
            "(2, 3, 3)\n"
          ]
        }
      ]
    },
    {
      "cell_type": "code",
      "source": [
        "np.append(a,50)"
      ],
      "metadata": {
        "colab": {
          "base_uri": "https://localhost:8080/"
        },
        "id": "dAafXcx3q-bW",
        "outputId": "d0ab00c2-3ed0-44ed-d4f9-e59a68749beb"
      },
      "execution_count": 18,
      "outputs": [
        {
          "output_type": "execute_result",
          "data": {
            "text/plain": [
              "array([ 2,  3,  5,  3,  3,  4,  2,  5,  5,  5,  5,  3,  5,  3,  2,  2,  2,\n",
              "        2, 50])"
            ]
          },
          "metadata": {},
          "execution_count": 18
        }
      ]
    },
    {
      "cell_type": "code",
      "source": [
        "b=np.random.randint(2,6,(2,1,3))\n",
        "print(b)\n"
      ],
      "metadata": {
        "colab": {
          "base_uri": "https://localhost:8080/"
        },
        "id": "Lp8DzVchrFBY",
        "outputId": "02d5782f-303d-4233-8337-a310215327c2"
      },
      "execution_count": 21,
      "outputs": [
        {
          "output_type": "stream",
          "name": "stdout",
          "text": [
            "[[[3 3 5]]\n",
            "\n",
            " [[4 3 2]]]\n"
          ]
        }
      ]
    },
    {
      "cell_type": "code",
      "source": [
        "print(a)\n",
        "print(a.shape)"
      ],
      "metadata": {
        "colab": {
          "base_uri": "https://localhost:8080/"
        },
        "id": "D_DoUCeMrR7I",
        "outputId": "c4878ccb-919c-42fc-e894-646cd2a8a0a4"
      },
      "execution_count": 22,
      "outputs": [
        {
          "output_type": "stream",
          "name": "stdout",
          "text": [
            "[[[2 3 5]\n",
            "  [3 3 4]\n",
            "  [2 5 5]]\n",
            "\n",
            " [[5 5 3]\n",
            "  [5 3 2]\n",
            "  [2 2 2]]]\n",
            "(2, 3, 3)\n"
          ]
        }
      ]
    },
    {
      "cell_type": "code",
      "source": [
        "np.append(a,b,axis=1)"
      ],
      "metadata": {
        "colab": {
          "base_uri": "https://localhost:8080/"
        },
        "id": "1Brx0BQ-rVxe",
        "outputId": "aa1e7846-754a-486e-cf54-2ec2d36df517"
      },
      "execution_count": 23,
      "outputs": [
        {
          "output_type": "execute_result",
          "data": {
            "text/plain": [
              "array([[[2, 3, 5],\n",
              "        [3, 3, 4],\n",
              "        [2, 5, 5],\n",
              "        [3, 3, 5]],\n",
              "\n",
              "       [[5, 5, 3],\n",
              "        [5, 3, 2],\n",
              "        [2, 2, 2],\n",
              "        [4, 3, 2]]])"
            ]
          },
          "metadata": {},
          "execution_count": 23
        }
      ]
    },
    {
      "cell_type": "code",
      "source": [
        "a=np.random.randint(2,6,(2,3,3))\n",
        "print(a)\n",
        "print(a.shape)"
      ],
      "metadata": {
        "colab": {
          "base_uri": "https://localhost:8080/"
        },
        "id": "iweqIFWWr_89",
        "outputId": "e3aea3a8-c7e6-4202-80b2-cceb734d0ecd"
      },
      "execution_count": 24,
      "outputs": [
        {
          "output_type": "stream",
          "name": "stdout",
          "text": [
            "[[[5 3 3]\n",
            "  [4 2 2]\n",
            "  [4 4 3]]\n",
            "\n",
            " [[3 5 4]\n",
            "  [2 5 3]\n",
            "  [4 2 5]]]\n",
            "(2, 3, 3)\n"
          ]
        }
      ]
    },
    {
      "cell_type": "code",
      "source": [
        "np.delete(a,(0),axis=0)"
      ],
      "metadata": {
        "colab": {
          "base_uri": "https://localhost:8080/"
        },
        "id": "2aDHM1kqsPyF",
        "outputId": "1e3eaf88-f454-44f9-d606-8f9405613a80"
      },
      "execution_count": 25,
      "outputs": [
        {
          "output_type": "execute_result",
          "data": {
            "text/plain": [
              "array([[[3, 5, 4],\n",
              "        [2, 5, 3],\n",
              "        [4, 2, 5]]])"
            ]
          },
          "metadata": {},
          "execution_count": 25
        }
      ]
    },
    {
      "cell_type": "code",
      "source": [
        "np.delete(a,(0,2),axis=1)"
      ],
      "metadata": {
        "colab": {
          "base_uri": "https://localhost:8080/"
        },
        "id": "yzjRaUwysbvA",
        "outputId": "3e38e530-7518-42e8-ce3b-8c9b3d689878"
      },
      "execution_count": 26,
      "outputs": [
        {
          "output_type": "execute_result",
          "data": {
            "text/plain": [
              "array([[[4, 2, 2]],\n",
              "\n",
              "       [[2, 5, 3]]])"
            ]
          },
          "metadata": {},
          "execution_count": 26
        }
      ]
    },
    {
      "cell_type": "code",
      "source": [
        "a"
      ],
      "metadata": {
        "colab": {
          "base_uri": "https://localhost:8080/"
        },
        "id": "4pSDEE-IsmTj",
        "outputId": "aa38cc9a-4eaa-42fc-f386-64f334b0767a"
      },
      "execution_count": 27,
      "outputs": [
        {
          "output_type": "execute_result",
          "data": {
            "text/plain": [
              "array([[[5, 3, 3],\n",
              "        [4, 2, 2],\n",
              "        [4, 4, 3]],\n",
              "\n",
              "       [[3, 5, 4],\n",
              "        [2, 5, 3],\n",
              "        [4, 2, 5]]])"
            ]
          },
          "metadata": {},
          "execution_count": 27
        }
      ]
    },
    {
      "cell_type": "code",
      "source": [
        "np.delete(a,(0,1),axis=2)"
      ],
      "metadata": {
        "colab": {
          "base_uri": "https://localhost:8080/"
        },
        "id": "IyMFHi0XspOw",
        "outputId": "242ed93f-e13d-4aef-ca3f-64a57a94f6e1"
      },
      "execution_count": 29,
      "outputs": [
        {
          "output_type": "execute_result",
          "data": {
            "text/plain": [
              "array([[[3],\n",
              "        [2],\n",
              "        [3]],\n",
              "\n",
              "       [[4],\n",
              "        [3],\n",
              "        [5]]])"
            ]
          },
          "metadata": {},
          "execution_count": 29
        }
      ]
    },
    {
      "cell_type": "code",
      "source": [
        "a=np.random.randint(0,2,(2,3,3))\n",
        "print(a)\n",
        "print(a.shape)\n"
      ],
      "metadata": {
        "colab": {
          "base_uri": "https://localhost:8080/"
        },
        "id": "vZ9eoJ-etZE9",
        "outputId": "e73aaf81-fc21-485b-df47-b1339eb5f55a"
      },
      "execution_count": 32,
      "outputs": [
        {
          "output_type": "stream",
          "name": "stdout",
          "text": [
            "[[[0 1 0]\n",
            "  [0 1 1]\n",
            "  [1 0 1]]\n",
            "\n",
            " [[1 1 0]\n",
            "  [1 1 0]\n",
            "  [1 1 1]]]\n",
            "(2, 3, 3)\n"
          ]
        }
      ]
    },
    {
      "cell_type": "code",
      "source": [
        "np.unique(a)"
      ],
      "metadata": {
        "colab": {
          "base_uri": "https://localhost:8080/"
        },
        "id": "a0dz1DHUtooN",
        "outputId": "1d8a52bf-d1a5-4d91-f09a-d592f9f71892"
      },
      "execution_count": 33,
      "outputs": [
        {
          "output_type": "execute_result",
          "data": {
            "text/plain": [
              "array([0, 1])"
            ]
          },
          "metadata": {},
          "execution_count": 33
        }
      ]
    },
    {
      "cell_type": "code",
      "source": [
        "np.unique(a,return_counts=True)"
      ],
      "metadata": {
        "colab": {
          "base_uri": "https://localhost:8080/"
        },
        "id": "q3-u7JSUtsBl",
        "outputId": "5e385a98-a8b0-4d6e-ea67-5d5a27972f40"
      },
      "execution_count": 34,
      "outputs": [
        {
          "output_type": "execute_result",
          "data": {
            "text/plain": [
              "(array([0, 1]), array([ 6, 12]))"
            ]
          },
          "metadata": {},
          "execution_count": 34
        }
      ]
    },
    {
      "cell_type": "code",
      "source": [
        "np.unique(a,return_counts=True,return_index=True)"
      ],
      "metadata": {
        "colab": {
          "base_uri": "https://localhost:8080/"
        },
        "id": "5qOjlFLHtz-e",
        "outputId": "d2f93586-ccd9-4e01-e466-1e82a3c56af1"
      },
      "execution_count": 35,
      "outputs": [
        {
          "output_type": "execute_result",
          "data": {
            "text/plain": [
              "(array([0, 1]), array([0, 1]), array([ 6, 12]))"
            ]
          },
          "metadata": {},
          "execution_count": 35
        }
      ]
    },
    {
      "cell_type": "code",
      "source": [
        "a=[1,2,3]\n",
        "b=a\n",
        "b[0]=10\n",
        "print(b)\n",
        "print(a)\n"
      ],
      "metadata": {
        "colab": {
          "base_uri": "https://localhost:8080/"
        },
        "id": "KNqWIsw0t-8K",
        "outputId": "14a960f5-31ed-424e-b459-1ff801d4498f"
      },
      "execution_count": 36,
      "outputs": [
        {
          "output_type": "stream",
          "name": "stdout",
          "text": [
            "[10, 2, 3]\n",
            "[10, 2, 3]\n"
          ]
        }
      ]
    },
    {
      "cell_type": "code",
      "source": [
        "a=[1,2,3]\n",
        "b=a.copy()\n",
        "b[0]=10\n",
        "print(b)\n",
        "print(a)"
      ],
      "metadata": {
        "colab": {
          "base_uri": "https://localhost:8080/"
        },
        "id": "wtPLzmE-uLzW",
        "outputId": "648c8cae-136c-4216-db86-f03294debd26"
      },
      "execution_count": 37,
      "outputs": [
        {
          "output_type": "stream",
          "name": "stdout",
          "text": [
            "[10, 2, 3]\n",
            "[1, 2, 3]\n"
          ]
        }
      ]
    },
    {
      "cell_type": "code",
      "source": [
        "a=np.array([1,2,3])\n",
        "b=a.copy()\n",
        "b[0]=-999\n",
        "print(b)\n",
        "print(a)"
      ],
      "metadata": {
        "colab": {
          "base_uri": "https://localhost:8080/"
        },
        "id": "OsNv4ZCfujRd",
        "outputId": "e4caba39-2f40-4a32-9a0d-2c1452eb17c6"
      },
      "execution_count": 38,
      "outputs": [
        {
          "output_type": "stream",
          "name": "stdout",
          "text": [
            "[-999    2    3]\n",
            "[1 2 3]\n"
          ]
        }
      ]
    },
    {
      "cell_type": "code",
      "source": [
        "a=np.random.randint(2,6,(2,4))\n",
        "print(a)\n",
        "b=np.random.randint(0,5,(2,4))\n",
        "np.multiply(a,b)"
      ],
      "metadata": {
        "colab": {
          "base_uri": "https://localhost:8080/"
        },
        "id": "t3Gsu_pLuuBb",
        "outputId": "57c3b199-1eb8-4e50-a739-99825394fc57"
      },
      "execution_count": 40,
      "outputs": [
        {
          "output_type": "stream",
          "name": "stdout",
          "text": [
            "[[5 3 2 5]\n",
            " [5 2 3 3]]\n"
          ]
        },
        {
          "output_type": "execute_result",
          "data": {
            "text/plain": [
              "array([[10, 12,  0, 15],\n",
              "       [ 5,  2,  6,  0]])"
            ]
          },
          "metadata": {},
          "execution_count": 40
        }
      ]
    }
  ]
}